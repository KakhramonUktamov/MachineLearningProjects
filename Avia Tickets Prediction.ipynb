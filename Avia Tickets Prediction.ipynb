{
 "cells": [
  {
   "cell_type": "code",
   "execution_count": 73,
   "id": "17a8aa83",
   "metadata": {},
   "outputs": [],
   "source": [
    "#This is avia ticket prediction project!\n",
    "#first of all, i called all needed libraries and methods which are below\n",
    "\n",
    "import pandas as pd\n",
    "import numpy as np\n",
    "from sklearn.model_selection import train_test_split\n",
    "from sklearn.preprocessing import OrdinalEncoder, StandardScaler\n",
    "from sklearn.metrics import mean_absolute_error, mean_squared_error\n",
    "from sklearn.compose import ColumnTransformer"
   ]
  },
  {
   "cell_type": "code",
   "execution_count": 95,
   "id": "456b5285",
   "metadata": {},
   "outputs": [
    {
     "data": {
      "text/html": [
       "<div>\n",
       "<style scoped>\n",
       "    .dataframe tbody tr th:only-of-type {\n",
       "        vertical-align: middle;\n",
       "    }\n",
       "\n",
       "    .dataframe tbody tr th {\n",
       "        vertical-align: top;\n",
       "    }\n",
       "\n",
       "    .dataframe thead th {\n",
       "        text-align: right;\n",
       "    }\n",
       "</style>\n",
       "<table border=\"1\" class=\"dataframe\">\n",
       "  <thead>\n",
       "    <tr style=\"text-align: right;\">\n",
       "      <th></th>\n",
       "      <th>id</th>\n",
       "      <th>airline</th>\n",
       "      <th>flight</th>\n",
       "      <th>source_city</th>\n",
       "      <th>departure_time</th>\n",
       "      <th>stops</th>\n",
       "      <th>arrival_time</th>\n",
       "      <th>destination_city</th>\n",
       "      <th>class</th>\n",
       "      <th>duration</th>\n",
       "      <th>days_left</th>\n",
       "      <th>price</th>\n",
       "    </tr>\n",
       "  </thead>\n",
       "  <tbody>\n",
       "    <tr>\n",
       "      <th>0</th>\n",
       "      <td>1</td>\n",
       "      <td>Vistara</td>\n",
       "      <td>UK-810</td>\n",
       "      <td>Bangalore</td>\n",
       "      <td>Early_Morning</td>\n",
       "      <td>one</td>\n",
       "      <td>Night</td>\n",
       "      <td>Mumbai</td>\n",
       "      <td>Economy</td>\n",
       "      <td>14.25</td>\n",
       "      <td>21</td>\n",
       "      <td>7212</td>\n",
       "    </tr>\n",
       "    <tr>\n",
       "      <th>1</th>\n",
       "      <td>2</td>\n",
       "      <td>SpiceJet</td>\n",
       "      <td>SG-5094</td>\n",
       "      <td>Hyderabad</td>\n",
       "      <td>Evening</td>\n",
       "      <td>zero</td>\n",
       "      <td>Night</td>\n",
       "      <td>Kolkata</td>\n",
       "      <td>Economy</td>\n",
       "      <td>1.75</td>\n",
       "      <td>7</td>\n",
       "      <td>5292</td>\n",
       "    </tr>\n",
       "    <tr>\n",
       "      <th>2</th>\n",
       "      <td>3</td>\n",
       "      <td>Vistara</td>\n",
       "      <td>UK-846</td>\n",
       "      <td>Bangalore</td>\n",
       "      <td>Morning</td>\n",
       "      <td>one</td>\n",
       "      <td>Evening</td>\n",
       "      <td>Delhi</td>\n",
       "      <td>Business</td>\n",
       "      <td>9.58</td>\n",
       "      <td>5</td>\n",
       "      <td>60553</td>\n",
       "    </tr>\n",
       "    <tr>\n",
       "      <th>3</th>\n",
       "      <td>4</td>\n",
       "      <td>Vistara</td>\n",
       "      <td>UK-706</td>\n",
       "      <td>Kolkata</td>\n",
       "      <td>Morning</td>\n",
       "      <td>one</td>\n",
       "      <td>Evening</td>\n",
       "      <td>Hyderabad</td>\n",
       "      <td>Economy</td>\n",
       "      <td>6.75</td>\n",
       "      <td>28</td>\n",
       "      <td>5760</td>\n",
       "    </tr>\n",
       "    <tr>\n",
       "      <th>4</th>\n",
       "      <td>5</td>\n",
       "      <td>Indigo</td>\n",
       "      <td>6E-5394</td>\n",
       "      <td>Chennai</td>\n",
       "      <td>Early_Morning</td>\n",
       "      <td>zero</td>\n",
       "      <td>Morning</td>\n",
       "      <td>Mumbai</td>\n",
       "      <td>Economy</td>\n",
       "      <td>2.00</td>\n",
       "      <td>4</td>\n",
       "      <td>10712</td>\n",
       "    </tr>\n",
       "    <tr>\n",
       "      <th>5</th>\n",
       "      <td>6</td>\n",
       "      <td>Air_India</td>\n",
       "      <td>AI-636</td>\n",
       "      <td>Delhi</td>\n",
       "      <td>Afternoon</td>\n",
       "      <td>one</td>\n",
       "      <td>Morning</td>\n",
       "      <td>Chennai</td>\n",
       "      <td>Business</td>\n",
       "      <td>20.42</td>\n",
       "      <td>5</td>\n",
       "      <td>45257</td>\n",
       "    </tr>\n",
       "    <tr>\n",
       "      <th>6</th>\n",
       "      <td>7</td>\n",
       "      <td>Vistara</td>\n",
       "      <td>UK-834</td>\n",
       "      <td>Chennai</td>\n",
       "      <td>Evening</td>\n",
       "      <td>one</td>\n",
       "      <td>Morning</td>\n",
       "      <td>Mumbai</td>\n",
       "      <td>Economy</td>\n",
       "      <td>18.42</td>\n",
       "      <td>20</td>\n",
       "      <td>5054</td>\n",
       "    </tr>\n",
       "    <tr>\n",
       "      <th>7</th>\n",
       "      <td>8</td>\n",
       "      <td>Air_India</td>\n",
       "      <td>AI-505</td>\n",
       "      <td>Bangalore</td>\n",
       "      <td>Morning</td>\n",
       "      <td>zero</td>\n",
       "      <td>Afternoon</td>\n",
       "      <td>Delhi</td>\n",
       "      <td>Business</td>\n",
       "      <td>2.58</td>\n",
       "      <td>30</td>\n",
       "      <td>32923</td>\n",
       "    </tr>\n",
       "    <tr>\n",
       "      <th>8</th>\n",
       "      <td>9</td>\n",
       "      <td>Vistara</td>\n",
       "      <td>UK-810</td>\n",
       "      <td>Bangalore</td>\n",
       "      <td>Early_Morning</td>\n",
       "      <td>one</td>\n",
       "      <td>Night</td>\n",
       "      <td>Hyderabad</td>\n",
       "      <td>Economy</td>\n",
       "      <td>15.92</td>\n",
       "      <td>12</td>\n",
       "      <td>11383</td>\n",
       "    </tr>\n",
       "    <tr>\n",
       "      <th>9</th>\n",
       "      <td>10</td>\n",
       "      <td>Air_India</td>\n",
       "      <td>AI-538</td>\n",
       "      <td>Chennai</td>\n",
       "      <td>Night</td>\n",
       "      <td>one</td>\n",
       "      <td>Afternoon</td>\n",
       "      <td>Mumbai</td>\n",
       "      <td>Economy</td>\n",
       "      <td>16.50</td>\n",
       "      <td>18</td>\n",
       "      <td>4357</td>\n",
       "    </tr>\n",
       "  </tbody>\n",
       "</table>\n",
       "</div>"
      ],
      "text/plain": [
       "   id    airline   flight source_city departure_time stops arrival_time  \\\n",
       "0   1    Vistara   UK-810   Bangalore  Early_Morning   one        Night   \n",
       "1   2   SpiceJet  SG-5094   Hyderabad        Evening  zero        Night   \n",
       "2   3    Vistara   UK-846   Bangalore        Morning   one      Evening   \n",
       "3   4    Vistara   UK-706     Kolkata        Morning   one      Evening   \n",
       "4   5     Indigo  6E-5394     Chennai  Early_Morning  zero      Morning   \n",
       "5   6  Air_India   AI-636       Delhi      Afternoon   one      Morning   \n",
       "6   7    Vistara   UK-834     Chennai        Evening   one      Morning   \n",
       "7   8  Air_India   AI-505   Bangalore        Morning  zero    Afternoon   \n",
       "8   9    Vistara   UK-810   Bangalore  Early_Morning   one        Night   \n",
       "9  10  Air_India   AI-538     Chennai          Night   one    Afternoon   \n",
       "\n",
       "  destination_city     class  duration  days_left  price  \n",
       "0           Mumbai   Economy     14.25         21   7212  \n",
       "1          Kolkata   Economy      1.75          7   5292  \n",
       "2            Delhi  Business      9.58          5  60553  \n",
       "3        Hyderabad   Economy      6.75         28   5760  \n",
       "4           Mumbai   Economy      2.00          4  10712  \n",
       "5          Chennai  Business     20.42          5  45257  \n",
       "6           Mumbai   Economy     18.42         20   5054  \n",
       "7            Delhi  Business      2.58         30  32923  \n",
       "8        Hyderabad   Economy     15.92         12  11383  \n",
       "9           Mumbai   Economy     16.50         18   4357  "
      ]
     },
     "execution_count": 95,
     "metadata": {},
     "output_type": "execute_result"
    }
   ],
   "source": [
    "#these dataframes what we use to prepare predictor model, test\n",
    "\n",
    "train=pd.read_csv('D:/aviachipta-narxini-bashorat-qilish/train_data.csv')\n",
    "sample=pd.read_csv('D:/aviachipta-narxini-bashorat-qilish/sample_solution.csv', index_col=False)\n",
    "test=pd.read_csv('D:/aviachipta-narxini-bashorat-qilish/test_data.csv')\n",
    "train.head(10)"
   ]
  },
  {
   "cell_type": "code",
   "execution_count": 75,
   "id": "f9491cca",
   "metadata": {},
   "outputs": [
    {
     "name": "stdout",
     "output_type": "stream",
     "text": [
      "<class 'pandas.core.frame.DataFrame'>\n",
      "RangeIndex: 20000 entries, 0 to 19999\n",
      "Data columns (total 12 columns):\n",
      " #   Column            Non-Null Count  Dtype  \n",
      "---  ------            --------------  -----  \n",
      " 0   id                20000 non-null  int64  \n",
      " 1   airline           20000 non-null  object \n",
      " 2   flight            20000 non-null  object \n",
      " 3   source_city       20000 non-null  object \n",
      " 4   departure_time    20000 non-null  object \n",
      " 5   stops             20000 non-null  object \n",
      " 6   arrival_time      20000 non-null  object \n",
      " 7   destination_city  20000 non-null  object \n",
      " 8   class             20000 non-null  object \n",
      " 9   duration          20000 non-null  float64\n",
      " 10  days_left         20000 non-null  int64  \n",
      " 11  price             20000 non-null  int64  \n",
      "dtypes: float64(1), int64(3), object(8)\n",
      "memory usage: 1.8+ MB\n"
     ]
    }
   ],
   "source": [
    "#Let's check info of the data and whether there is null values or not\n",
    "train.info()"
   ]
  },
  {
   "cell_type": "code",
   "execution_count": 76,
   "id": "f0355bff",
   "metadata": {},
   "outputs": [],
   "source": [
    "# created a copy data of out train data\n",
    "train_data=train.copy()"
   ]
  },
  {
   "cell_type": "code",
   "execution_count": 77,
   "id": "18140f6b",
   "metadata": {},
   "outputs": [],
   "source": [
    "# Warn! : I normalized and standarized the train data and saw the correlation between price and the other values,\n",
    "# and i deleted them not to interrupt\n",
    "# So this function helps me to drop those lower correlated columns\n",
    "\n",
    "def waste_data(x):\n",
    "    return x.drop(['id','flight'], axis=1)"
   ]
  },
  {
   "cell_type": "code",
   "execution_count": 78,
   "id": "f7dab71c",
   "metadata": {},
   "outputs": [],
   "source": [
    "# divided numerical and categorical columns to built pipeline\n",
    "\n",
    "num_data=['duration','days_left']\n",
    "cat_data=['airline','source_city','departure_time','stops','arrival_time','destination_city','class']"
   ]
  },
  {
   "cell_type": "code",
   "execution_count": 79,
   "id": "ee162e34",
   "metadata": {},
   "outputs": [],
   "source": [
    "full_pipline=ColumnTransformer([\n",
    "    ('numeric',StandardScaler(),num_data),\n",
    "    ('categorical',OrdinalEncoder(),cat_data)\n",
    "])"
   ]
  },
  {
   "cell_type": "code",
   "execution_count": 80,
   "id": "b26126a3",
   "metadata": {},
   "outputs": [],
   "source": [
    "# I split up data into unlabeled and labled data for training\n",
    "X=train_data.drop('price', axis=1)\n",
    "y=train_data['price']"
   ]
  },
  {
   "cell_type": "code",
   "execution_count": 82,
   "id": "35e9983a",
   "metadata": {},
   "outputs": [],
   "source": [
    "#here test_size is 40 % because the amount of data is more, and random state is as usual\n",
    "X_train, X_test, y_train,y_test=train_test_split(X,y, test_size=0.4, random_state=42)"
   ]
  },
  {
   "cell_type": "code",
   "execution_count": 83,
   "id": "b8bce19f",
   "metadata": {},
   "outputs": [],
   "source": [
    "#Standardizing process\n",
    "X_train=waste_data(X_train)\n",
    "\n",
    "X_train_prepared=full_pipline.fit_transform(X_train)"
   ]
  },
  {
   "cell_type": "code",
   "execution_count": 84,
   "id": "7efcd7df",
   "metadata": {},
   "outputs": [
    {
     "data": {
      "text/html": [
       "<style>#sk-container-id-11 {color: black;background-color: white;}#sk-container-id-11 pre{padding: 0;}#sk-container-id-11 div.sk-toggleable {background-color: white;}#sk-container-id-11 label.sk-toggleable__label {cursor: pointer;display: block;width: 100%;margin-bottom: 0;padding: 0.3em;box-sizing: border-box;text-align: center;}#sk-container-id-11 label.sk-toggleable__label-arrow:before {content: \"▸\";float: left;margin-right: 0.25em;color: #696969;}#sk-container-id-11 label.sk-toggleable__label-arrow:hover:before {color: black;}#sk-container-id-11 div.sk-estimator:hover label.sk-toggleable__label-arrow:before {color: black;}#sk-container-id-11 div.sk-toggleable__content {max-height: 0;max-width: 0;overflow: hidden;text-align: left;background-color: #f0f8ff;}#sk-container-id-11 div.sk-toggleable__content pre {margin: 0.2em;color: black;border-radius: 0.25em;background-color: #f0f8ff;}#sk-container-id-11 input.sk-toggleable__control:checked~div.sk-toggleable__content {max-height: 200px;max-width: 100%;overflow: auto;}#sk-container-id-11 input.sk-toggleable__control:checked~label.sk-toggleable__label-arrow:before {content: \"▾\";}#sk-container-id-11 div.sk-estimator input.sk-toggleable__control:checked~label.sk-toggleable__label {background-color: #d4ebff;}#sk-container-id-11 div.sk-label input.sk-toggleable__control:checked~label.sk-toggleable__label {background-color: #d4ebff;}#sk-container-id-11 input.sk-hidden--visually {border: 0;clip: rect(1px 1px 1px 1px);clip: rect(1px, 1px, 1px, 1px);height: 1px;margin: -1px;overflow: hidden;padding: 0;position: absolute;width: 1px;}#sk-container-id-11 div.sk-estimator {font-family: monospace;background-color: #f0f8ff;border: 1px dotted black;border-radius: 0.25em;box-sizing: border-box;margin-bottom: 0.5em;}#sk-container-id-11 div.sk-estimator:hover {background-color: #d4ebff;}#sk-container-id-11 div.sk-parallel-item::after {content: \"\";width: 100%;border-bottom: 1px solid gray;flex-grow: 1;}#sk-container-id-11 div.sk-label:hover label.sk-toggleable__label {background-color: #d4ebff;}#sk-container-id-11 div.sk-serial::before {content: \"\";position: absolute;border-left: 1px solid gray;box-sizing: border-box;top: 0;bottom: 0;left: 50%;z-index: 0;}#sk-container-id-11 div.sk-serial {display: flex;flex-direction: column;align-items: center;background-color: white;padding-right: 0.2em;padding-left: 0.2em;position: relative;}#sk-container-id-11 div.sk-item {position: relative;z-index: 1;}#sk-container-id-11 div.sk-parallel {display: flex;align-items: stretch;justify-content: center;background-color: white;position: relative;}#sk-container-id-11 div.sk-item::before, #sk-container-id-11 div.sk-parallel-item::before {content: \"\";position: absolute;border-left: 1px solid gray;box-sizing: border-box;top: 0;bottom: 0;left: 50%;z-index: -1;}#sk-container-id-11 div.sk-parallel-item {display: flex;flex-direction: column;z-index: 1;position: relative;background-color: white;}#sk-container-id-11 div.sk-parallel-item:first-child::after {align-self: flex-end;width: 50%;}#sk-container-id-11 div.sk-parallel-item:last-child::after {align-self: flex-start;width: 50%;}#sk-container-id-11 div.sk-parallel-item:only-child::after {width: 0;}#sk-container-id-11 div.sk-dashed-wrapped {border: 1px dashed gray;margin: 0 0.4em 0.5em 0.4em;box-sizing: border-box;padding-bottom: 0.4em;background-color: white;}#sk-container-id-11 div.sk-label label {font-family: monospace;font-weight: bold;display: inline-block;line-height: 1.2em;}#sk-container-id-11 div.sk-label-container {text-align: center;}#sk-container-id-11 div.sk-container {/* jupyter's `normalize.less` sets `[hidden] { display: none; }` but bootstrap.min.css set `[hidden] { display: none !important; }` so we also need the `!important` here to be able to override the default hidden behavior on the sphinx rendered scikit-learn.org. See: https://github.com/scikit-learn/scikit-learn/issues/21755 */display: inline-block !important;position: relative;}#sk-container-id-11 div.sk-text-repr-fallback {display: none;}</style><div id=\"sk-container-id-11\" class=\"sk-top-container\"><div class=\"sk-text-repr-fallback\"><pre>XGBRegressor(base_score=0.5, booster=&#x27;gbtree&#x27;, callbacks=None,\n",
       "             colsample_bylevel=1, colsample_bynode=1, colsample_bytree=1,\n",
       "             early_stopping_rounds=None, enable_categorical=False,\n",
       "             eval_metric=None, feature_types=None, gamma=0, gpu_id=-1,\n",
       "             grow_policy=&#x27;depthwise&#x27;, importance_type=None,\n",
       "             interaction_constraints=&#x27;&#x27;, learning_rate=0.300000012, max_bin=256,\n",
       "             max_cat_threshold=64, max_cat_to_onehot=4, max_delta_step=0,\n",
       "             max_depth=6, max_leaves=0, min_child_weight=1, missing=nan,\n",
       "             monotone_constraints=&#x27;()&#x27;, n_estimators=100, n_jobs=0,\n",
       "             num_parallel_tree=1, predictor=&#x27;auto&#x27;, random_state=0, ...)</pre><b>In a Jupyter environment, please rerun this cell to show the HTML representation or trust the notebook. <br />On GitHub, the HTML representation is unable to render, please try loading this page with nbviewer.org.</b></div><div class=\"sk-container\" hidden><div class=\"sk-item\"><div class=\"sk-estimator sk-toggleable\"><input class=\"sk-toggleable__control sk-hidden--visually\" id=\"sk-estimator-id-27\" type=\"checkbox\" checked><label for=\"sk-estimator-id-27\" class=\"sk-toggleable__label sk-toggleable__label-arrow\">XGBRegressor</label><div class=\"sk-toggleable__content\"><pre>XGBRegressor(base_score=0.5, booster=&#x27;gbtree&#x27;, callbacks=None,\n",
       "             colsample_bylevel=1, colsample_bynode=1, colsample_bytree=1,\n",
       "             early_stopping_rounds=None, enable_categorical=False,\n",
       "             eval_metric=None, feature_types=None, gamma=0, gpu_id=-1,\n",
       "             grow_policy=&#x27;depthwise&#x27;, importance_type=None,\n",
       "             interaction_constraints=&#x27;&#x27;, learning_rate=0.300000012, max_bin=256,\n",
       "             max_cat_threshold=64, max_cat_to_onehot=4, max_delta_step=0,\n",
       "             max_depth=6, max_leaves=0, min_child_weight=1, missing=nan,\n",
       "             monotone_constraints=&#x27;()&#x27;, n_estimators=100, n_jobs=0,\n",
       "             num_parallel_tree=1, predictor=&#x27;auto&#x27;, random_state=0, ...)</pre></div></div></div></div></div>"
      ],
      "text/plain": [
       "XGBRegressor(base_score=0.5, booster='gbtree', callbacks=None,\n",
       "             colsample_bylevel=1, colsample_bynode=1, colsample_bytree=1,\n",
       "             early_stopping_rounds=None, enable_categorical=False,\n",
       "             eval_metric=None, feature_types=None, gamma=0, gpu_id=-1,\n",
       "             grow_policy='depthwise', importance_type=None,\n",
       "             interaction_constraints='', learning_rate=0.300000012, max_bin=256,\n",
       "             max_cat_threshold=64, max_cat_to_onehot=4, max_delta_step=0,\n",
       "             max_depth=6, max_leaves=0, min_child_weight=1, missing=nan,\n",
       "             monotone_constraints='()', n_estimators=100, n_jobs=0,\n",
       "             num_parallel_tree=1, predictor='auto', random_state=0, ...)"
      ]
     },
     "execution_count": 84,
     "metadata": {},
     "output_type": "execute_result"
    }
   ],
   "source": [
    "# Traning process\n",
    "# Warn! : I checked  every predictor models and chose the justified one\n",
    "\n",
    "xgbr_model=XGBRegressor()\n",
    "xgbr_model.fit(X_train_prepared, y_train)"
   ]
  },
  {
   "cell_type": "code",
   "execution_count": 85,
   "id": "b170ec7d",
   "metadata": {},
   "outputs": [],
   "source": [
    "# Preparing the test data for checking the error\n",
    "x_test_unwasted=waste_data(X_test)\n",
    "x_test_prepared=full_pipline.fit_transform(x_test_unwasted)"
   ]
  },
  {
   "cell_type": "code",
   "execution_count": 86,
   "id": "0e5ed4ff",
   "metadata": {},
   "outputs": [],
   "source": [
    "y_predicted=xgbr_model.predict(x_test_prepared)"
   ]
  },
  {
   "cell_type": "code",
   "execution_count": 87,
   "id": "fc9e71ec",
   "metadata": {},
   "outputs": [
    {
     "data": {
      "text/plain": [
       "(2641.9294716701506, 4501.855619899732)"
      ]
     },
     "execution_count": 87,
     "metadata": {},
     "output_type": "execute_result"
    }
   ],
   "source": [
    "# the lowest mean absolute error for this data is that you see below\n",
    "mae=mean_absolute_error(y_test,y_predicted)\n",
    "msq=np.sqrt(mean_squared_error(y_test,y_predicted))\n",
    "mae,msq"
   ]
  },
  {
   "cell_type": "code",
   "execution_count": 88,
   "id": "03b1685c",
   "metadata": {},
   "outputs": [],
   "source": [
    "# Preparing the final prediction for test data\n",
    "test_unwasted=waste_data(test)\n",
    "test_piplined=full_pipline.fit_transform(test_unwasted)"
   ]
  },
  {
   "cell_type": "code",
   "execution_count": 89,
   "id": "8b85549e",
   "metadata": {},
   "outputs": [],
   "source": [
    "test_predicted=xgbr_model.predict(test_piplined)"
   ]
  },
  {
   "cell_type": "code",
   "execution_count": 98,
   "id": "02e5e885",
   "metadata": {},
   "outputs": [],
   "source": [
    "# This is what we should predict\n",
    "sample['price']=test_predicted\n",
    "sample.set_index('id', inplace=True)"
   ]
  },
  {
   "cell_type": "code",
   "execution_count": 101,
   "id": "3691f803",
   "metadata": {},
   "outputs": [],
   "source": [
    "sample.to_csv('AviaTicketPrediction.csv')"
   ]
  },
  {
   "cell_type": "code",
   "execution_count": null,
   "id": "4d75d825",
   "metadata": {},
   "outputs": [],
   "source": []
  }
 ],
 "metadata": {
  "kernelspec": {
   "display_name": "Python 3 (ipykernel)",
   "language": "python",
   "name": "python3"
  },
  "language_info": {
   "codemirror_mode": {
    "name": "ipython",
    "version": 3
   },
   "file_extension": ".py",
   "mimetype": "text/x-python",
   "name": "python",
   "nbconvert_exporter": "python",
   "pygments_lexer": "ipython3",
   "version": "3.9.13"
  }
 },
 "nbformat": 4,
 "nbformat_minor": 5
}
