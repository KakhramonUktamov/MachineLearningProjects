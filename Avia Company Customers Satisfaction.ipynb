{
 "cells": [
  {
   "cell_type": "code",
   "execution_count": 2,
   "id": "88111542",
   "metadata": {},
   "outputs": [],
   "source": [
    "#Welcome to Avia Company Customers Satisfaction Prediction\n",
    "#First of all i called needed libraries and methods\n",
    "import pandas as pd\n",
    "import numpy as np\n",
    "import matplotlib.pyplot as plt\n",
    "%matplotlib inline\n",
    "from sklearn.preprocessing import OneHotEncoder, StandardScaler\n",
    "from sklearn.model_selection import train_test_split, GridSearchCV, cross_val_predict\n",
    "from sklearn.neighbors import KNeighborsClassifier\n",
    "from sklearn.tree import DecisionTreeClassifier\n",
    "from sklearn.ensemble import RandomForestClassifier\n",
    "from xgboost import XGBClassifier\n",
    "from sklearn.metrics import accuracy_score,precision_score, classification_report\n",
    "from sklearn.impute import SimpleImputer\n",
    "from sklearn.pipeline import Pipeline\n",
    "from sklearn.compose import ColumnTransformer"
   ]
  },
  {
   "cell_type": "code",
   "execution_count": 3,
   "id": "c8d37b4b",
   "metadata": {},
   "outputs": [
    {
     "data": {
      "text/html": [
       "<div>\n",
       "<style scoped>\n",
       "    .dataframe tbody tr th:only-of-type {\n",
       "        vertical-align: middle;\n",
       "    }\n",
       "\n",
       "    .dataframe tbody tr th {\n",
       "        vertical-align: top;\n",
       "    }\n",
       "\n",
       "    .dataframe thead th {\n",
       "        text-align: right;\n",
       "    }\n",
       "</style>\n",
       "<table border=\"1\" class=\"dataframe\">\n",
       "  <thead>\n",
       "    <tr style=\"text-align: right;\">\n",
       "      <th></th>\n",
       "      <th>id</th>\n",
       "      <th>Gender</th>\n",
       "      <th>Customer Type</th>\n",
       "      <th>Age</th>\n",
       "      <th>Type of Travel</th>\n",
       "      <th>Class</th>\n",
       "      <th>Flight Distance</th>\n",
       "      <th>Inflight wifi service</th>\n",
       "      <th>Departure/Arrival time convenient</th>\n",
       "      <th>Ease of Online booking</th>\n",
       "      <th>...</th>\n",
       "      <th>Inflight entertainment</th>\n",
       "      <th>On-board service</th>\n",
       "      <th>Leg room service</th>\n",
       "      <th>Baggage handling</th>\n",
       "      <th>Checkin service</th>\n",
       "      <th>Inflight service</th>\n",
       "      <th>Cleanliness</th>\n",
       "      <th>Departure Delay in Minutes</th>\n",
       "      <th>Arrival Delay in Minutes</th>\n",
       "      <th>satisfaction</th>\n",
       "    </tr>\n",
       "  </thead>\n",
       "  <tbody>\n",
       "    <tr>\n",
       "      <th>0</th>\n",
       "      <td>1</td>\n",
       "      <td>Male</td>\n",
       "      <td>disloyal Customer</td>\n",
       "      <td>33</td>\n",
       "      <td>Business travel</td>\n",
       "      <td>Eco</td>\n",
       "      <td>571</td>\n",
       "      <td>2</td>\n",
       "      <td>3</td>\n",
       "      <td>2</td>\n",
       "      <td>...</td>\n",
       "      <td>4</td>\n",
       "      <td>3</td>\n",
       "      <td>1</td>\n",
       "      <td>3</td>\n",
       "      <td>4</td>\n",
       "      <td>3</td>\n",
       "      <td>4</td>\n",
       "      <td>10</td>\n",
       "      <td>3.0</td>\n",
       "      <td>0</td>\n",
       "    </tr>\n",
       "    <tr>\n",
       "      <th>1</th>\n",
       "      <td>2</td>\n",
       "      <td>Female</td>\n",
       "      <td>Loyal Customer</td>\n",
       "      <td>49</td>\n",
       "      <td>Business travel</td>\n",
       "      <td>Business</td>\n",
       "      <td>1431</td>\n",
       "      <td>4</td>\n",
       "      <td>1</td>\n",
       "      <td>4</td>\n",
       "      <td>...</td>\n",
       "      <td>5</td>\n",
       "      <td>5</td>\n",
       "      <td>5</td>\n",
       "      <td>5</td>\n",
       "      <td>3</td>\n",
       "      <td>5</td>\n",
       "      <td>3</td>\n",
       "      <td>0</td>\n",
       "      <td>0.0</td>\n",
       "      <td>1</td>\n",
       "    </tr>\n",
       "    <tr>\n",
       "      <th>2</th>\n",
       "      <td>3</td>\n",
       "      <td>Female</td>\n",
       "      <td>Loyal Customer</td>\n",
       "      <td>43</td>\n",
       "      <td>Business travel</td>\n",
       "      <td>Eco</td>\n",
       "      <td>867</td>\n",
       "      <td>1</td>\n",
       "      <td>4</td>\n",
       "      <td>4</td>\n",
       "      <td>...</td>\n",
       "      <td>1</td>\n",
       "      <td>1</td>\n",
       "      <td>1</td>\n",
       "      <td>1</td>\n",
       "      <td>1</td>\n",
       "      <td>1</td>\n",
       "      <td>2</td>\n",
       "      <td>0</td>\n",
       "      <td>18.0</td>\n",
       "      <td>0</td>\n",
       "    </tr>\n",
       "    <tr>\n",
       "      <th>3</th>\n",
       "      <td>4</td>\n",
       "      <td>Female</td>\n",
       "      <td>Loyal Customer</td>\n",
       "      <td>27</td>\n",
       "      <td>Business travel</td>\n",
       "      <td>Business</td>\n",
       "      <td>1550</td>\n",
       "      <td>3</td>\n",
       "      <td>3</td>\n",
       "      <td>3</td>\n",
       "      <td>...</td>\n",
       "      <td>2</td>\n",
       "      <td>4</td>\n",
       "      <td>4</td>\n",
       "      <td>5</td>\n",
       "      <td>5</td>\n",
       "      <td>4</td>\n",
       "      <td>2</td>\n",
       "      <td>0</td>\n",
       "      <td>0.0</td>\n",
       "      <td>1</td>\n",
       "    </tr>\n",
       "    <tr>\n",
       "      <th>4</th>\n",
       "      <td>5</td>\n",
       "      <td>Male</td>\n",
       "      <td>Loyal Customer</td>\n",
       "      <td>11</td>\n",
       "      <td>Personal Travel</td>\n",
       "      <td>Eco</td>\n",
       "      <td>526</td>\n",
       "      <td>3</td>\n",
       "      <td>4</td>\n",
       "      <td>3</td>\n",
       "      <td>...</td>\n",
       "      <td>4</td>\n",
       "      <td>5</td>\n",
       "      <td>2</td>\n",
       "      <td>5</td>\n",
       "      <td>3</td>\n",
       "      <td>5</td>\n",
       "      <td>4</td>\n",
       "      <td>0</td>\n",
       "      <td>10.0</td>\n",
       "      <td>0</td>\n",
       "    </tr>\n",
       "    <tr>\n",
       "      <th>5</th>\n",
       "      <td>6</td>\n",
       "      <td>Male</td>\n",
       "      <td>Loyal Customer</td>\n",
       "      <td>30</td>\n",
       "      <td>Personal Travel</td>\n",
       "      <td>Eco Plus</td>\n",
       "      <td>1034</td>\n",
       "      <td>2</td>\n",
       "      <td>4</td>\n",
       "      <td>2</td>\n",
       "      <td>...</td>\n",
       "      <td>5</td>\n",
       "      <td>4</td>\n",
       "      <td>5</td>\n",
       "      <td>5</td>\n",
       "      <td>4</td>\n",
       "      <td>4</td>\n",
       "      <td>5</td>\n",
       "      <td>0</td>\n",
       "      <td>0.0</td>\n",
       "      <td>0</td>\n",
       "    </tr>\n",
       "    <tr>\n",
       "      <th>6</th>\n",
       "      <td>7</td>\n",
       "      <td>Male</td>\n",
       "      <td>Loyal Customer</td>\n",
       "      <td>38</td>\n",
       "      <td>Business travel</td>\n",
       "      <td>Eco</td>\n",
       "      <td>826</td>\n",
       "      <td>5</td>\n",
       "      <td>1</td>\n",
       "      <td>1</td>\n",
       "      <td>...</td>\n",
       "      <td>5</td>\n",
       "      <td>1</td>\n",
       "      <td>4</td>\n",
       "      <td>4</td>\n",
       "      <td>5</td>\n",
       "      <td>4</td>\n",
       "      <td>5</td>\n",
       "      <td>2</td>\n",
       "      <td>5.0</td>\n",
       "      <td>1</td>\n",
       "    </tr>\n",
       "    <tr>\n",
       "      <th>7</th>\n",
       "      <td>8</td>\n",
       "      <td>Female</td>\n",
       "      <td>Loyal Customer</td>\n",
       "      <td>39</td>\n",
       "      <td>Business travel</td>\n",
       "      <td>Eco Plus</td>\n",
       "      <td>162</td>\n",
       "      <td>3</td>\n",
       "      <td>4</td>\n",
       "      <td>4</td>\n",
       "      <td>...</td>\n",
       "      <td>3</td>\n",
       "      <td>3</td>\n",
       "      <td>5</td>\n",
       "      <td>5</td>\n",
       "      <td>1</td>\n",
       "      <td>3</td>\n",
       "      <td>3</td>\n",
       "      <td>0</td>\n",
       "      <td>0.0</td>\n",
       "      <td>1</td>\n",
       "    </tr>\n",
       "    <tr>\n",
       "      <th>8</th>\n",
       "      <td>9</td>\n",
       "      <td>Male</td>\n",
       "      <td>disloyal Customer</td>\n",
       "      <td>43</td>\n",
       "      <td>Business travel</td>\n",
       "      <td>Business</td>\n",
       "      <td>541</td>\n",
       "      <td>2</td>\n",
       "      <td>2</td>\n",
       "      <td>2</td>\n",
       "      <td>...</td>\n",
       "      <td>3</td>\n",
       "      <td>5</td>\n",
       "      <td>2</td>\n",
       "      <td>5</td>\n",
       "      <td>4</td>\n",
       "      <td>4</td>\n",
       "      <td>3</td>\n",
       "      <td>0</td>\n",
       "      <td>0.0</td>\n",
       "      <td>0</td>\n",
       "    </tr>\n",
       "    <tr>\n",
       "      <th>9</th>\n",
       "      <td>10</td>\n",
       "      <td>Female</td>\n",
       "      <td>disloyal Customer</td>\n",
       "      <td>24</td>\n",
       "      <td>Business travel</td>\n",
       "      <td>Eco</td>\n",
       "      <td>1065</td>\n",
       "      <td>4</td>\n",
       "      <td>4</td>\n",
       "      <td>4</td>\n",
       "      <td>...</td>\n",
       "      <td>2</td>\n",
       "      <td>4</td>\n",
       "      <td>2</td>\n",
       "      <td>4</td>\n",
       "      <td>2</td>\n",
       "      <td>4</td>\n",
       "      <td>2</td>\n",
       "      <td>10</td>\n",
       "      <td>17.0</td>\n",
       "      <td>0</td>\n",
       "    </tr>\n",
       "  </tbody>\n",
       "</table>\n",
       "<p>10 rows × 24 columns</p>\n",
       "</div>"
      ],
      "text/plain": [
       "   id  Gender      Customer Type  Age   Type of Travel     Class  \\\n",
       "0   1    Male  disloyal Customer   33  Business travel       Eco   \n",
       "1   2  Female     Loyal Customer   49  Business travel  Business   \n",
       "2   3  Female     Loyal Customer   43  Business travel       Eco   \n",
       "3   4  Female     Loyal Customer   27  Business travel  Business   \n",
       "4   5    Male     Loyal Customer   11  Personal Travel       Eco   \n",
       "5   6    Male     Loyal Customer   30  Personal Travel  Eco Plus   \n",
       "6   7    Male     Loyal Customer   38  Business travel       Eco   \n",
       "7   8  Female     Loyal Customer   39  Business travel  Eco Plus   \n",
       "8   9    Male  disloyal Customer   43  Business travel  Business   \n",
       "9  10  Female  disloyal Customer   24  Business travel       Eco   \n",
       "\n",
       "   Flight Distance  Inflight wifi service  Departure/Arrival time convenient  \\\n",
       "0              571                      2                                  3   \n",
       "1             1431                      4                                  1   \n",
       "2              867                      1                                  4   \n",
       "3             1550                      3                                  3   \n",
       "4              526                      3                                  4   \n",
       "5             1034                      2                                  4   \n",
       "6              826                      5                                  1   \n",
       "7              162                      3                                  4   \n",
       "8              541                      2                                  2   \n",
       "9             1065                      4                                  4   \n",
       "\n",
       "   Ease of Online booking  ...  Inflight entertainment  On-board service  \\\n",
       "0                       2  ...                       4                 3   \n",
       "1                       4  ...                       5                 5   \n",
       "2                       4  ...                       1                 1   \n",
       "3                       3  ...                       2                 4   \n",
       "4                       3  ...                       4                 5   \n",
       "5                       2  ...                       5                 4   \n",
       "6                       1  ...                       5                 1   \n",
       "7                       4  ...                       3                 3   \n",
       "8                       2  ...                       3                 5   \n",
       "9                       4  ...                       2                 4   \n",
       "\n",
       "   Leg room service  Baggage handling  Checkin service  Inflight service  \\\n",
       "0                 1                 3                4                 3   \n",
       "1                 5                 5                3                 5   \n",
       "2                 1                 1                1                 1   \n",
       "3                 4                 5                5                 4   \n",
       "4                 2                 5                3                 5   \n",
       "5                 5                 5                4                 4   \n",
       "6                 4                 4                5                 4   \n",
       "7                 5                 5                1                 3   \n",
       "8                 2                 5                4                 4   \n",
       "9                 2                 4                2                 4   \n",
       "\n",
       "   Cleanliness  Departure Delay in Minutes  Arrival Delay in Minutes  \\\n",
       "0            4                          10                       3.0   \n",
       "1            3                           0                       0.0   \n",
       "2            2                           0                      18.0   \n",
       "3            2                           0                       0.0   \n",
       "4            4                           0                      10.0   \n",
       "5            5                           0                       0.0   \n",
       "6            5                           2                       5.0   \n",
       "7            3                           0                       0.0   \n",
       "8            3                           0                       0.0   \n",
       "9            2                          10                      17.0   \n",
       "\n",
       "   satisfaction  \n",
       "0             0  \n",
       "1             1  \n",
       "2             0  \n",
       "3             1  \n",
       "4             0  \n",
       "5             0  \n",
       "6             1  \n",
       "7             1  \n",
       "8             0  \n",
       "9             0  \n",
       "\n",
       "[10 rows x 24 columns]"
      ]
     },
     "execution_count": 3,
     "metadata": {},
     "output_type": "execute_result"
    }
   ],
   "source": [
    "#those dataset are that we use in this prediction model\n",
    "train=pd.read_csv(\"D:/aviakompaniya/train_dataset.csv\")\n",
    "test=pd.read_csv(\"D:/aviakompaniya/test_dataset.csv\")\n",
    "sample=pd.read_csv('D:/aviakompaniya/sample_submission.csv')\n",
    "train.head(10)"
   ]
  },
  {
   "cell_type": "code",
   "execution_count": 4,
   "id": "1f08b67e",
   "metadata": {},
   "outputs": [
    {
     "name": "stdout",
     "output_type": "stream",
     "text": [
      "<class 'pandas.core.frame.DataFrame'>\n",
      "RangeIndex: 10000 entries, 0 to 9999\n",
      "Data columns (total 24 columns):\n",
      " #   Column                             Non-Null Count  Dtype  \n",
      "---  ------                             --------------  -----  \n",
      " 0   id                                 10000 non-null  int64  \n",
      " 1   Gender                             10000 non-null  object \n",
      " 2   Customer Type                      10000 non-null  object \n",
      " 3   Age                                10000 non-null  int64  \n",
      " 4   Type of Travel                     10000 non-null  object \n",
      " 5   Class                              10000 non-null  object \n",
      " 6   Flight Distance                    10000 non-null  int64  \n",
      " 7   Inflight wifi service              10000 non-null  int64  \n",
      " 8   Departure/Arrival time convenient  10000 non-null  int64  \n",
      " 9   Ease of Online booking             10000 non-null  int64  \n",
      " 10  Gate location                      10000 non-null  int64  \n",
      " 11  Food and drink                     10000 non-null  int64  \n",
      " 12  Online boarding                    10000 non-null  int64  \n",
      " 13  Seat comfort                       10000 non-null  int64  \n",
      " 14  Inflight entertainment             10000 non-null  int64  \n",
      " 15  On-board service                   10000 non-null  int64  \n",
      " 16  Leg room service                   10000 non-null  int64  \n",
      " 17  Baggage handling                   10000 non-null  int64  \n",
      " 18  Checkin service                    10000 non-null  int64  \n",
      " 19  Inflight service                   10000 non-null  int64  \n",
      " 20  Cleanliness                        10000 non-null  int64  \n",
      " 21  Departure Delay in Minutes         10000 non-null  int64  \n",
      " 22  Arrival Delay in Minutes           9972 non-null   float64\n",
      " 23  satisfaction                       10000 non-null  int64  \n",
      "dtypes: float64(1), int64(19), object(4)\n",
      "memory usage: 1.8+ MB\n"
     ]
    }
   ],
   "source": [
    "#we can see that there are some null values and categorical columns\n",
    "train.info()"
   ]
  },
  {
   "cell_type": "code",
   "execution_count": 5,
   "id": "fe3bd430",
   "metadata": {},
   "outputs": [
    {
     "data": {
      "text/plain": [
       "id                                    0\n",
       "Gender                                0\n",
       "Customer Type                         0\n",
       "Age                                   0\n",
       "Type of Travel                        0\n",
       "Class                                 0\n",
       "Flight Distance                       0\n",
       "Inflight wifi service                 0\n",
       "Departure/Arrival time convenient     0\n",
       "Ease of Online booking                0\n",
       "Gate location                         0\n",
       "Food and drink                        0\n",
       "Online boarding                       0\n",
       "Seat comfort                          0\n",
       "Inflight entertainment                0\n",
       "On-board service                      0\n",
       "Leg room service                      0\n",
       "Baggage handling                      0\n",
       "Checkin service                       0\n",
       "Inflight service                      0\n",
       "Cleanliness                           0\n",
       "Departure Delay in Minutes            0\n",
       "Arrival Delay in Minutes             28\n",
       "satisfaction                          0\n",
       "dtype: int64"
      ]
     },
     "execution_count": 5,
     "metadata": {},
     "output_type": "execute_result"
    }
   ],
   "source": [
    "# there is some null values, so i chang those values to median value of the column \n",
    "train.isnull().sum()"
   ]
  },
  {
   "cell_type": "code",
   "execution_count": 6,
   "id": "f30c7d12",
   "metadata": {},
   "outputs": [
    {
     "data": {
      "text/plain": [
       "satisfaction                         1.000000\n",
       "Online boarding                      0.504986\n",
       "Inflight entertainment               0.400900\n",
       "Seat comfort                         0.342294\n",
       "On-board service                     0.326426\n",
       "Leg room service                     0.324368\n",
       "Cleanliness                          0.310338\n",
       "Flight Distance                      0.298703\n",
       "Inflight wifi service                0.277395\n",
       "Baggage handling                     0.247965\n",
       "Inflight service                     0.240584\n",
       "Checkin service                      0.232359\n",
       "Food and drink                       0.207854\n",
       "Ease of Online booking               0.164662\n",
       "Age                                  0.144302\n",
       "Departure/Arrival time convenient    0.067638\n",
       "Arrival Delay in Minutes             0.048650\n",
       "Departure Delay in Minutes           0.042960\n",
       "Gate location                        0.007169\n",
       "id                                   0.002931\n",
       "dtype: float64"
      ]
     },
     "execution_count": 6,
     "metadata": {},
     "output_type": "execute_result"
    }
   ],
   "source": [
    "#correlation is not so good, however i decided to drop some of lower correlated columns\n",
    "train.corrwith(train['satisfaction']).abs().sort_values(ascending=False)"
   ]
  },
  {
   "cell_type": "code",
   "execution_count": 7,
   "id": "19e8b598",
   "metadata": {},
   "outputs": [],
   "source": [
    "#this function helps me to drop lower correlated columns easly\n",
    "waste_columns=['Departure/Arrival time convenient','Arrival Delay in Minutes',\n",
    "'Departure Delay in Minutes', 'Gate location','id']\n",
    "def waste_deleter(x):\n",
    "    return x.drop(x[waste_columns], axis=1)"
   ]
  },
  {
   "cell_type": "code",
   "execution_count": 10,
   "id": "d17701a5",
   "metadata": {},
   "outputs": [],
   "source": [
    "train_data=waste_deleter(train)"
   ]
  },
  {
   "cell_type": "code",
   "execution_count": 11,
   "id": "878f6c64",
   "metadata": {},
   "outputs": [],
   "source": [
    "X=train_data.drop('satisfaction', axis=1)\n",
    "y=train_data['satisfaction']"
   ]
  },
  {
   "cell_type": "code",
   "execution_count": 13,
   "id": "0fa9c2cb",
   "metadata": {},
   "outputs": [],
   "source": [
    "#classified numerical and categorical values to utilize pipeline\n",
    "numeric_x=X[['Age','Flight Distance', 'Inflight wifi service',\n",
    "       'Ease of Online booking','Food and drink', 'Online boarding', 'Seat comfort',\n",
    "       'Inflight entertainment', 'On-board service', 'Leg room service',\n",
    "       'Baggage handling', 'Checkin service', 'Inflight service','Cleanliness']]\n",
    "categ_x=X[['Gender','Customer Type','Type of Travel','Class']]"
   ]
  },
  {
   "cell_type": "code",
   "execution_count": 14,
   "id": "e68337fc",
   "metadata": {},
   "outputs": [],
   "source": [
    "pipeline=Pipeline([\n",
    "  ('imputer',SimpleImputer(strategy='median')),\n",
    "    ('s_scaler',StandardScaler())\n",
    "])"
   ]
  },
  {
   "cell_type": "code",
   "execution_count": 15,
   "id": "8334f0a9",
   "metadata": {},
   "outputs": [],
   "source": [
    "numerical=list(numeric_x)\n",
    "categorical=list(categ_x)\n",
    "full_pipeline=ColumnTransformer([\n",
    "    ('categorical',OneHotEncoder(),categorical),\n",
    "    ('numerical_data',pipeline,numerical)\n",
    "])"
   ]
  },
  {
   "cell_type": "code",
   "execution_count": 16,
   "id": "b049624c",
   "metadata": {},
   "outputs": [],
   "source": [
    "prepared_x=full_pipeline.fit_transform(X)"
   ]
  },
  {
   "cell_type": "code",
   "execution_count": 17,
   "id": "cfb562fd",
   "metadata": {},
   "outputs": [],
   "source": [
    "x_train,x_test,y_train,y_test=train_test_split(prepared_x,y,test_size=0.2, random_state=42)"
   ]
  },
  {
   "cell_type": "code",
   "execution_count": 38,
   "id": "cd0591ca",
   "metadata": {},
   "outputs": [
    {
     "name": "stdout",
     "output_type": "stream",
     "text": [
      "0.9459459459459459\n",
      "0.9135\n"
     ]
    }
   ],
   "source": [
    "#knn model\n",
    "knn_model=KNeighborsClassifier(n_neighbors=11)\n",
    "knn_model.fit(x_train,y_train) \n",
    "\n",
    "y_predicted=knn_model.predict(x_test)\n",
    "print(precision_score(y_test,y_predicted))\n",
    "print(accuracy_score(y_test,y_predicted))"
   ]
  },
  {
   "cell_type": "code",
   "execution_count": 22,
   "id": "73b58682",
   "metadata": {},
   "outputs": [
    {
     "data": {
      "text/html": [
       "<style>#sk-container-id-3 {color: black;background-color: white;}#sk-container-id-3 pre{padding: 0;}#sk-container-id-3 div.sk-toggleable {background-color: white;}#sk-container-id-3 label.sk-toggleable__label {cursor: pointer;display: block;width: 100%;margin-bottom: 0;padding: 0.3em;box-sizing: border-box;text-align: center;}#sk-container-id-3 label.sk-toggleable__label-arrow:before {content: \"▸\";float: left;margin-right: 0.25em;color: #696969;}#sk-container-id-3 label.sk-toggleable__label-arrow:hover:before {color: black;}#sk-container-id-3 div.sk-estimator:hover label.sk-toggleable__label-arrow:before {color: black;}#sk-container-id-3 div.sk-toggleable__content {max-height: 0;max-width: 0;overflow: hidden;text-align: left;background-color: #f0f8ff;}#sk-container-id-3 div.sk-toggleable__content pre {margin: 0.2em;color: black;border-radius: 0.25em;background-color: #f0f8ff;}#sk-container-id-3 input.sk-toggleable__control:checked~div.sk-toggleable__content {max-height: 200px;max-width: 100%;overflow: auto;}#sk-container-id-3 input.sk-toggleable__control:checked~label.sk-toggleable__label-arrow:before {content: \"▾\";}#sk-container-id-3 div.sk-estimator input.sk-toggleable__control:checked~label.sk-toggleable__label {background-color: #d4ebff;}#sk-container-id-3 div.sk-label input.sk-toggleable__control:checked~label.sk-toggleable__label {background-color: #d4ebff;}#sk-container-id-3 input.sk-hidden--visually {border: 0;clip: rect(1px 1px 1px 1px);clip: rect(1px, 1px, 1px, 1px);height: 1px;margin: -1px;overflow: hidden;padding: 0;position: absolute;width: 1px;}#sk-container-id-3 div.sk-estimator {font-family: monospace;background-color: #f0f8ff;border: 1px dotted black;border-radius: 0.25em;box-sizing: border-box;margin-bottom: 0.5em;}#sk-container-id-3 div.sk-estimator:hover {background-color: #d4ebff;}#sk-container-id-3 div.sk-parallel-item::after {content: \"\";width: 100%;border-bottom: 1px solid gray;flex-grow: 1;}#sk-container-id-3 div.sk-label:hover label.sk-toggleable__label {background-color: #d4ebff;}#sk-container-id-3 div.sk-serial::before {content: \"\";position: absolute;border-left: 1px solid gray;box-sizing: border-box;top: 0;bottom: 0;left: 50%;z-index: 0;}#sk-container-id-3 div.sk-serial {display: flex;flex-direction: column;align-items: center;background-color: white;padding-right: 0.2em;padding-left: 0.2em;position: relative;}#sk-container-id-3 div.sk-item {position: relative;z-index: 1;}#sk-container-id-3 div.sk-parallel {display: flex;align-items: stretch;justify-content: center;background-color: white;position: relative;}#sk-container-id-3 div.sk-item::before, #sk-container-id-3 div.sk-parallel-item::before {content: \"\";position: absolute;border-left: 1px solid gray;box-sizing: border-box;top: 0;bottom: 0;left: 50%;z-index: -1;}#sk-container-id-3 div.sk-parallel-item {display: flex;flex-direction: column;z-index: 1;position: relative;background-color: white;}#sk-container-id-3 div.sk-parallel-item:first-child::after {align-self: flex-end;width: 50%;}#sk-container-id-3 div.sk-parallel-item:last-child::after {align-self: flex-start;width: 50%;}#sk-container-id-3 div.sk-parallel-item:only-child::after {width: 0;}#sk-container-id-3 div.sk-dashed-wrapped {border: 1px dashed gray;margin: 0 0.4em 0.5em 0.4em;box-sizing: border-box;padding-bottom: 0.4em;background-color: white;}#sk-container-id-3 div.sk-label label {font-family: monospace;font-weight: bold;display: inline-block;line-height: 1.2em;}#sk-container-id-3 div.sk-label-container {text-align: center;}#sk-container-id-3 div.sk-container {/* jupyter's `normalize.less` sets `[hidden] { display: none; }` but bootstrap.min.css set `[hidden] { display: none !important; }` so we also need the `!important` here to be able to override the default hidden behavior on the sphinx rendered scikit-learn.org. See: https://github.com/scikit-learn/scikit-learn/issues/21755 */display: inline-block !important;position: relative;}#sk-container-id-3 div.sk-text-repr-fallback {display: none;}</style><div id=\"sk-container-id-3\" class=\"sk-top-container\"><div class=\"sk-text-repr-fallback\"><pre>GridSearchCV(cv=5, error_score=&#x27;raise&#x27;,\n",
       "             estimator=KNeighborsClassifier(n_neighbors=11),\n",
       "             param_grid={&#x27;n_neighbors&#x27;: array([ 1,  2,  3,  4,  5,  6,  7,  8,  9, 10, 11, 12, 13, 14, 15, 16, 17,\n",
       "       18, 19])})</pre><b>In a Jupyter environment, please rerun this cell to show the HTML representation or trust the notebook. <br />On GitHub, the HTML representation is unable to render, please try loading this page with nbviewer.org.</b></div><div class=\"sk-container\" hidden><div class=\"sk-item sk-dashed-wrapped\"><div class=\"sk-label-container\"><div class=\"sk-label sk-toggleable\"><input class=\"sk-toggleable__control sk-hidden--visually\" id=\"sk-estimator-id-5\" type=\"checkbox\" ><label for=\"sk-estimator-id-5\" class=\"sk-toggleable__label sk-toggleable__label-arrow\">GridSearchCV</label><div class=\"sk-toggleable__content\"><pre>GridSearchCV(cv=5, error_score=&#x27;raise&#x27;,\n",
       "             estimator=KNeighborsClassifier(n_neighbors=11),\n",
       "             param_grid={&#x27;n_neighbors&#x27;: array([ 1,  2,  3,  4,  5,  6,  7,  8,  9, 10, 11, 12, 13, 14, 15, 16, 17,\n",
       "       18, 19])})</pre></div></div></div><div class=\"sk-parallel\"><div class=\"sk-parallel-item\"><div class=\"sk-item\"><div class=\"sk-label-container\"><div class=\"sk-label sk-toggleable\"><input class=\"sk-toggleable__control sk-hidden--visually\" id=\"sk-estimator-id-6\" type=\"checkbox\" ><label for=\"sk-estimator-id-6\" class=\"sk-toggleable__label sk-toggleable__label-arrow\">estimator: KNeighborsClassifier</label><div class=\"sk-toggleable__content\"><pre>KNeighborsClassifier(n_neighbors=11)</pre></div></div></div><div class=\"sk-serial\"><div class=\"sk-item\"><div class=\"sk-estimator sk-toggleable\"><input class=\"sk-toggleable__control sk-hidden--visually\" id=\"sk-estimator-id-7\" type=\"checkbox\" ><label for=\"sk-estimator-id-7\" class=\"sk-toggleable__label sk-toggleable__label-arrow\">KNeighborsClassifier</label><div class=\"sk-toggleable__content\"><pre>KNeighborsClassifier(n_neighbors=11)</pre></div></div></div></div></div></div></div></div></div></div>"
      ],
      "text/plain": [
       "GridSearchCV(cv=5, error_score='raise',\n",
       "             estimator=KNeighborsClassifier(n_neighbors=11),\n",
       "             param_grid={'n_neighbors': array([ 1,  2,  3,  4,  5,  6,  7,  8,  9, 10, 11, 12, 13, 14, 15, 16, 17,\n",
       "       18, 19])})"
      ]
     },
     "execution_count": 22,
     "metadata": {},
     "output_type": "execute_result"
    }
   ],
   "source": [
    "#Finding the most approprate k neighbor\n",
    "\n",
    "param_grids={'n_neighbors': np.arange(1,20)}\n",
    "knn_grid=GridSearchCV(knn_model, param_grids, cv=5, error_score='raise')\n",
    "knn_grid.fit(prepared_x,y)"
   ]
  },
  {
   "cell_type": "code",
   "execution_count": 24,
   "id": "d59e6075",
   "metadata": {},
   "outputs": [
    {
     "data": {
      "text/plain": [
       "({'n_neighbors': 11}, 0.9099999999999999)"
      ]
     },
     "execution_count": 24,
     "metadata": {},
     "output_type": "execute_result"
    }
   ],
   "source": [
    "knn_grid.best_params_, knn_grid.best_score_"
   ]
  },
  {
   "cell_type": "code",
   "execution_count": 26,
   "id": "c95294bc",
   "metadata": {},
   "outputs": [
    {
     "name": "stdout",
     "output_type": "stream",
     "text": [
      "              precision    recall  f1-score   support\n",
      "\n",
      "           0       0.88      0.95      0.91      5000\n",
      "           1       0.94      0.87      0.91      5000\n",
      "\n",
      "    accuracy                           0.91     10000\n",
      "   macro avg       0.91      0.91      0.91     10000\n",
      "weighted avg       0.91      0.91      0.91     10000\n",
      "\n"
     ]
    }
   ],
   "source": [
    "# cross validation predict model\n",
    "from sklearn.model_selection import cross_val_predict\n",
    "predict=cross_val_predict(estimator=knn_model, X=prepared_x, y=y, cv=5)\n",
    "print(classification_report(y, predict))"
   ]
  },
  {
   "cell_type": "code",
   "execution_count": 39,
   "id": "d2d2f9fe",
   "metadata": {},
   "outputs": [
    {
     "name": "stdout",
     "output_type": "stream",
     "text": [
      "              precision    recall  f1-score   support\n",
      "\n",
      "           0       0.92      0.92      0.92      1002\n",
      "           1       0.92      0.92      0.92       998\n",
      "\n",
      "    accuracy                           0.92      2000\n",
      "   macro avg       0.92      0.92      0.92      2000\n",
      "weighted avg       0.92      0.92      0.92      2000\n",
      "\n",
      "0.9227683049147443\n"
     ]
    }
   ],
   "source": [
    "#tree model\n",
    "tree_model=DecisionTreeClassifier()\n",
    "tree_model.fit(x_train, y_train)\n",
    "\n",
    "tree_predicted=tree_model.predict(x_test)\n",
    "print(classification_report(y_test,tree_predicted))\n",
    "print(precision_score(y_test,tree_predicted))"
   ]
  },
  {
   "cell_type": "code",
   "execution_count": 40,
   "id": "3d23f7c5",
   "metadata": {},
   "outputs": [
    {
     "name": "stdout",
     "output_type": "stream",
     "text": [
      "              precision    recall  f1-score   support\n",
      "\n",
      "           0       0.94      0.97      0.95      1002\n",
      "           1       0.96      0.94      0.95       998\n",
      "\n",
      "    accuracy                           0.95      2000\n",
      "   macro avg       0.95      0.95      0.95      2000\n",
      "weighted avg       0.95      0.95      0.95      2000\n",
      "\n"
     ]
    }
   ],
   "source": [
    "# Random Forest Classifier model\n",
    "rf_model=RandomForestClassifier()\n",
    "rf_model.fit(x_train,y_train)\n",
    "\n",
    "rf_predict=rf_model.predict(x_test)\n",
    "print(classification_report(y_test,rf_predict))"
   ]
  },
  {
   "cell_type": "code",
   "execution_count": 31,
   "id": "92295db4",
   "metadata": {},
   "outputs": [
    {
     "data": {
      "text/plain": [
       "0.9609053497942387"
      ]
     },
     "execution_count": 31,
     "metadata": {},
     "output_type": "execute_result"
    }
   ],
   "source": [
    "# random forest classifier model score\n",
    "# Warning! : this model is most accurated model,so I use this model to predict test data\n",
    "print(precision_score(y_test,rf_predict))"
   ]
  },
  {
   "cell_type": "code",
   "execution_count": 41,
   "id": "04b34c44",
   "metadata": {},
   "outputs": [
    {
     "name": "stdout",
     "output_type": "stream",
     "text": [
      "              precision    recall  f1-score   support\n",
      "\n",
      "           0       0.94      0.96      0.95      1002\n",
      "           1       0.96      0.94      0.95       998\n",
      "\n",
      "    accuracy                           0.95      2000\n",
      "   macro avg       0.95      0.95      0.95      2000\n",
      "weighted avg       0.95      0.95      0.95      2000\n",
      "\n",
      "0.9505\n"
     ]
    }
   ],
   "source": [
    "#XGBoost Classifier model\n",
    "xgb_model=XGBClassifier()\n",
    "xgb_model.fit(x_train,y_train)\n",
    "\n",
    "xgb_predict=xgb_model.predict(x_test)\n",
    "print(classification_report(y_test,xgb_predict))\n",
    "print(accuracy_score(y_test,xgb_predict))"
   ]
  },
  {
   "cell_type": "code",
   "execution_count": 43,
   "id": "8fdf7125",
   "metadata": {},
   "outputs": [],
   "source": [
    "#preparing the prediction of test data \n",
    "test_data=waste_deleter(test)\n",
    "\n",
    "prepared_test_data=full_pipeline.fit_transform(test_data)\n",
    "\n",
    "test_predicted=rf_model.predict(prepared_test_data)\n",
    "\n",
    "sample['satisfaction']=test_predicted\n",
    "sample.to_csv('AviaCompanySatisfaction.csv')"
   ]
  }
 ],
 "metadata": {
  "kernelspec": {
   "display_name": "Python 3 (ipykernel)",
   "language": "python",
   "name": "python3"
  },
  "language_info": {
   "codemirror_mode": {
    "name": "ipython",
    "version": 3
   },
   "file_extension": ".py",
   "mimetype": "text/x-python",
   "name": "python",
   "nbconvert_exporter": "python",
   "pygments_lexer": "ipython3",
   "version": "3.9.13"
  }
 },
 "nbformat": 4,
 "nbformat_minor": 5
}
