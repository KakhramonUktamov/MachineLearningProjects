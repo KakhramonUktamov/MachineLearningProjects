{
 "cells": [
  {
   "cell_type": "markdown",
   "id": "19f755b3",
   "metadata": {},
   "source": [
    "Welcome here with Kakhramonjon Uktamov"
   ]
  },
  {
   "cell_type": "code",
   "execution_count": 41,
   "id": "98669e8e",
   "metadata": {},
   "outputs": [],
   "source": [
    "#First of all, we import some libraries\n",
    "import numpy as np\n",
    "import pandas as pd\n",
    "import textdistance\n",
    "import re\n",
    "from collections import Counter"
   ]
  },
  {
   "cell_type": "code",
   "execution_count": 21,
   "id": "1a8802e2",
   "metadata": {},
   "outputs": [],
   "source": [
    "words=[]\n",
    "with open('words-book.txt',encoding='utf8') as f:\n",
    "    name=f.read()\n",
    "    name=name.lower()\n",
    "    words=re.findall('\\w+',name)\n",
    "    "
   ]
  },
  {
   "cell_type": "code",
   "execution_count": 38,
   "id": "7ce9be69",
   "metadata": {},
   "outputs": [
    {
     "name": "stdout",
     "output_type": "stream",
     "text": [
      "Number of words in the book: 222663\n",
      "Number of unique words available:  17647\n"
     ]
    }
   ],
   "source": [
    "print(f\"Number of words in the book: {len(words)}\")\n",
    "print(f\"Number of unique words available:  {len(np.unique(words))}\")"
   ]
  },
  {
   "cell_type": "code",
   "execution_count": 32,
   "id": "4938752b",
   "metadata": {},
   "outputs": [
    {
     "name": "stdout",
     "output_type": "stream",
     "text": [
      "1-word: THE\n",
      "2-word: PROJECT\n",
      "3-word: GUTENBERG\n",
      "4-word: EBOOK\n",
      "5-word: OF\n",
      "6-word: MOBY\n",
      "7-word: DICK\n",
      "8-word: OR\n",
      "9-word: THE\n",
      "10-word: WHALE\n"
     ]
    }
   ],
   "source": [
    "n=1\n",
    "for i in words[:10]:\n",
    "    print(f\"{n}-word: {i.upper()}\")\n",
    "    n+=1"
   ]
  },
  {
   "cell_type": "code",
   "execution_count": 40,
   "id": "a8228028",
   "metadata": {},
   "outputs": [
    {
     "name": "stdout",
     "output_type": "stream",
     "text": [
      "Number of word 'the' in the book:14703\n"
     ]
    }
   ],
   "source": [
    "the_frequency=0\n",
    "for i in words:\n",
    "    if i=='the':\n",
    "        the_frequency+=1\n",
    "print(f\"Number of word 'the' in the book:{the_frequency}\")"
   ]
  },
  {
   "cell_type": "code",
   "execution_count": 43,
   "id": "e25af86f",
   "metadata": {},
   "outputs": [
    {
     "name": "stdout",
     "output_type": "stream",
     "text": [
      "[('the', 14703), ('of', 6742), ('and', 6517), ('a', 4799), ('to', 4707), ('in', 4238), ('that', 3081), ('it', 2534), ('his', 2530), ('i', 2120)]\n"
     ]
    }
   ],
   "source": [
    "frequent_dict = {}  \n",
    "frequent_dict = Counter(words)\n",
    "print(frequent_dict.most_common()[:10])"
   ]
  },
  {
   "cell_type": "code",
   "execution_count": 56,
   "id": "a1f3e276",
   "metadata": {},
   "outputs": [],
   "source": [
    "probability={}\n",
    "sum_of_word=len(words)\n",
    "for q in frequent_dict.keys():\n",
    "    probability[q]=frequent_dict[q]/sum_of_word"
   ]
  },
  {
   "cell_type": "code",
   "execution_count": 70,
   "id": "071ff2fd",
   "metadata": {},
   "outputs": [],
   "source": [
    "#process of creating the auto word correcter function\n",
    "def Autocorrecter(input_word):\n",
    "    ranker=textdistance.Jaccard(qval=2)\n",
    "    input_word = input_word.lower()\n",
    "    if input_word in words:\n",
    "        return('Right Word')\n",
    "    similarity = [1-ranker.distance(m,input_word) for m in frequent_dict.keys()]\n",
    "    df = pd.DataFrame.from_dict(probability, orient='index').reset_index()\n",
    "    df = df.rename(columns={'index':'Word', 0:'Probability'})\n",
    "    df['Similarity'] = similarity\n",
    "    output = df.sort_values('Similarity', ascending=False).head(3)\n",
    "    return(output)"
   ]
  },
  {
   "cell_type": "code",
   "execution_count": 72,
   "id": "5c0c295a",
   "metadata": {},
   "outputs": [
    {
     "data": {
      "text/html": [
       "<div>\n",
       "<style scoped>\n",
       "    .dataframe tbody tr th:only-of-type {\n",
       "        vertical-align: middle;\n",
       "    }\n",
       "\n",
       "    .dataframe tbody tr th {\n",
       "        vertical-align: top;\n",
       "    }\n",
       "\n",
       "    .dataframe thead th {\n",
       "        text-align: right;\n",
       "    }\n",
       "</style>\n",
       "<table border=\"1\" class=\"dataframe\">\n",
       "  <thead>\n",
       "    <tr style=\"text-align: right;\">\n",
       "      <th></th>\n",
       "      <th>Word</th>\n",
       "      <th>Probability</th>\n",
       "      <th>Similarity</th>\n",
       "    </tr>\n",
       "  </thead>\n",
       "  <tbody>\n",
       "    <tr>\n",
       "      <th>4217</th>\n",
       "      <td>sister</td>\n",
       "      <td>0.000027</td>\n",
       "      <td>0.5</td>\n",
       "    </tr>\n",
       "    <tr>\n",
       "      <th>12659</th>\n",
       "      <td>resist</td>\n",
       "      <td>0.000004</td>\n",
       "      <td>0.5</td>\n",
       "    </tr>\n",
       "    <tr>\n",
       "      <th>13834</th>\n",
       "      <td>insist</td>\n",
       "      <td>0.000009</td>\n",
       "      <td>0.5</td>\n",
       "    </tr>\n",
       "  </tbody>\n",
       "</table>\n",
       "</div>"
      ],
      "text/plain": [
       "         Word  Probability  Similarity\n",
       "4217   sister     0.000027         0.5\n",
       "12659  resist     0.000004         0.5\n",
       "13834  insist     0.000009         0.5"
      ]
     },
     "execution_count": 72,
     "metadata": {},
     "output_type": "execute_result"
    }
   ],
   "source": [
    "#Let's try our autocorrecter\n",
    "Autocorrecter(\"sistr\")"
   ]
  },
  {
   "cell_type": "code",
   "execution_count": null,
   "id": "31ce6a00",
   "metadata": {},
   "outputs": [],
   "source": []
  }
 ],
 "metadata": {
  "kernelspec": {
   "display_name": "Python 3 (ipykernel)",
   "language": "python",
   "name": "python3"
  },
  "language_info": {
   "codemirror_mode": {
    "name": "ipython",
    "version": 3
   },
   "file_extension": ".py",
   "mimetype": "text/x-python",
   "name": "python",
   "nbconvert_exporter": "python",
   "pygments_lexer": "ipython3",
   "version": "3.10.9"
  }
 },
 "nbformat": 4,
 "nbformat_minor": 5
}
