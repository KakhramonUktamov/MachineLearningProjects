{
 "cells": [
  {
   "cell_type": "code",
   "execution_count": 5,
   "id": "5d6ea419",
   "metadata": {},
   "outputs": [],
   "source": [
    "import cv2 #for image processing\n",
    "import easygui #to open the filebox\n",
    "import numpy as np #to store image\n",
    "import imageio #to read image stored at any particular path\n",
    "\n",
    "import sys # to stop the progress\n",
    "import matplotlib.pyplot as plt # show an image\n",
    "import os # for path\n",
    "import tkinter as tk # for the image size and something else \n",
    "from tkinter import *\n",
    "from PIL import ImageTk, Image"
   ]
  },
  {
   "cell_type": "code",
   "execution_count": 8,
   "id": "6d6ccad1",
   "metadata": {},
   "outputs": [],
   "source": [
    "def upload():\n",
    "    ImagePath=easygui.fileopenbox()\n",
    "    cartoonify(ImagePath)"
   ]
  },
  {
   "cell_type": "code",
   "execution_count": 9,
   "id": "beed4ca9",
   "metadata": {},
   "outputs": [],
   "source": [
    "top=tk.Tk()\n",
    "top.geometry('350x350')\n",
    "top.title(\"Let's make your picture look cartoon\")\n",
    "top.configure(background='white')\n",
    "label=Label(top,background='#CDCDCD', font=('calibri',15,'bold'))"
   ]
  },
  {
   "cell_type": "code",
   "execution_count": 13,
   "id": "657d5339",
   "metadata": {},
   "outputs": [],
   "source": [
    "def cartoonify(ImagePath):\n",
    "    # read the image\n",
    "    original_image = cv2.imread(ImagePath)\n",
    "    original_image = cv2.cvtColor(original_image, cv2.COLOR_BAYER_BG2BGR_VNG)\n",
    "    #print(image)  # image is stored in form of numbers\n",
    "\n",
    "    # confirm that image is chosen\n",
    "    if original_image is None:\n",
    "        print(\"Could not find any image. Please try again ! \")\n",
    "        sys.exit()\n",
    "\n",
    "    image1 = cv2.resize(originalmage, (960, 700))\n",
    "    plt.imshow(ReSized1, cmap='gray')\n",
    "    \n",
    "    #converting an image to grayscale\n",
    "    grayScaleImage= cv2.cvtColor(original_image, cv2.COLOR_BGR2GRAY)\n",
    "    image2 = cv2.resize(grayScaleImage, (960, 700))\n",
    "    plt.imshow(ReSized2, cmap='gray')\n",
    "\n",
    "\n",
    "    #applying median blur to smoothen an image\n",
    "    smoothGrayScale = cv2.medianBlur(grayScaleImage, 5)\n",
    "    image3 = cv2.resize(smoothGrayScale, (960, 700))\n",
    "    plt.imshow(ReSized3, cmap='gray')\n",
    "\n",
    "    #retrieving the edges for cartoon effect\n",
    "    #by using thresholding technique\n",
    "    getEdge = cv2.adaptiveThreshold(smoothGrayScale, 200, \n",
    "        cv2.ADAPTIVE_THRESH_MEAN_C, \n",
    "        cv2.THRESH_BINARY, 9, 9)\n",
    "\n",
    "    image4 = cv2.resize(getEdge, (960, 700))\n",
    "    plt.imshow(ReSized4, cmap='gray')\n",
    "\n",
    "    #applying bilateral filter to remove noise \n",
    "    #and keep edge sharp as required\n",
    "    colorImage = cv2.bilateralFilter(original_image, 9, 300, 300)\n",
    "    image5 = cv2.resize(colorImage, (960, 700))\n",
    "    plt.imshow(ReSized5, cmap='gray')\n",
    "\n",
    "\n",
    "    #masking edged image with our \"BEAUTIFY\" image\n",
    "    cartoonImage = cv2.bitwise_and(colorImage, colorImage, mask=getEdge)\n",
    "\n",
    "    image6 = cv2.resize(cartoonImage, (960, 700))\n",
    "    plt.imshow(ReSized6, cmap='gray')\n",
    "\n",
    "    # Plotting the whole transition\n",
    "    images=[image1, image2, image3, image4, image5, image6]\n",
    "\n",
    "    fig, axes = plt.subplots(3,2, figsize=(8,8), subplot_kw={'xticks':[], 'yticks':[]}, gridspec_kw=dict(hspace=0.1, wspace=0.1))\n",
    "    for i, ax in enumerate(axes.flat):\n",
    "        ax.imshow(images[i], cmap='gray')\n",
    "\n",
    "    save1=Button(top,text=\"Save cartoon image\",command=lambda: save(image6, ImagePath),padx=30,pady=5)\n",
    "    save1.configure(background='#364156', foreground='white',font=('calibri',10,'bold'))\n",
    "    save1.pack(side=TOP,pady=50)\n",
    "    \n",
    "    plt.show()"
   ]
  },
  {
   "cell_type": "code",
   "execution_count": 10,
   "id": "501bede8",
   "metadata": {},
   "outputs": [],
   "source": [
    "#Saving the cartoonified images \n",
    "def save(ReSized6, ImagePath):\n",
    "    #saving an image using imwrite()\n",
    "    newName=\"cartoonified_Image\"\n",
    "    path1 = os.path.dirname(ImagePath)\n",
    "    extension=os.path.splitext(ImagePath)[1]\n",
    "    path = os.path.join(path1, newName+extension)\n",
    "    cv2.imwrite(path, cv2.cvtColor(ReSized6, cv2.COLOR_RGB2BGR))\n",
    "    I= \"Image saved by name \" + newName +\" at \"+ path\n",
    "    tk.messagebox.showinfo(title=None, message=I)"
   ]
  },
  {
   "cell_type": "code",
   "execution_count": 11,
   "id": "491ac51e",
   "metadata": {},
   "outputs": [],
   "source": [
    "upload=Button(top,text=\"Let's make your picture look cartoon\",command=upload,padx=10,pady=5)\n",
    "upload.configure(background='#364156', foreground='white',font=('calibri',10,'bold'))\n",
    "upload.pack(side=TOP,pady=50)"
   ]
  },
  {
   "cell_type": "code",
   "execution_count": 16,
   "id": "6277e1f8",
   "metadata": {},
   "outputs": [],
   "source": [
    "top.mainloop()"
   ]
  },
  {
   "cell_type": "code",
   "execution_count": null,
   "id": "65fc0056",
   "metadata": {},
   "outputs": [],
   "source": []
  }
 ],
 "metadata": {
  "kernelspec": {
   "display_name": "Python 3 (ipykernel)",
   "language": "python",
   "name": "python3"
  },
  "language_info": {
   "codemirror_mode": {
    "name": "ipython",
    "version": 3
   },
   "file_extension": ".py",
   "mimetype": "text/x-python",
   "name": "python",
   "nbconvert_exporter": "python",
   "pygments_lexer": "ipython3",
   "version": "3.10.9"
  }
 },
 "nbformat": 4,
 "nbformat_minor": 5
}
