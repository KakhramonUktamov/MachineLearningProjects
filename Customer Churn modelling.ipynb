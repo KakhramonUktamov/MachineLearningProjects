{
 "cells": [
  {
   "cell_type": "code",
   "execution_count": 1,
   "id": "7eea7804",
   "metadata": {},
   "outputs": [],
   "source": [
    "# In this practice, we have to find customer churn  ( they come again , or not )"
   ]
  },
  {
   "cell_type": "code",
   "execution_count": 3,
   "id": "1457a052",
   "metadata": {},
   "outputs": [],
   "source": [
    "# Firstly i picked neened libraries and methods \n",
    "\n",
    "import pandas as pd\n",
    "import numpy as np\n",
    "import matplotlib.pyplot as plt\n",
    "import seaborn as sns\n",
    "\n",
    "from sklearn.model_selection import train_test_split\n",
    "from sklearn.preprocessing import StandardScaler\n",
    "\n",
    "from sklearn import metrics\n",
    "from sklearn.tree import plot_tree, DecisionTreeClassifier\n",
    "from sklearn.linear_model import LogisticRegression\n",
    "from sklearn.ensemble import RandomForestClassifier\n",
    "from sklearn.svm import SVC\n",
    "from sklearn.pipeline import Pipeline"
   ]
  },
  {
   "cell_type": "code",
   "execution_count": 7,
   "id": "e4444727",
   "metadata": {},
   "outputs": [
    {
     "data": {
      "text/html": [
       "<div>\n",
       "<style scoped>\n",
       "    .dataframe tbody tr th:only-of-type {\n",
       "        vertical-align: middle;\n",
       "    }\n",
       "\n",
       "    .dataframe tbody tr th {\n",
       "        vertical-align: top;\n",
       "    }\n",
       "\n",
       "    .dataframe thead th {\n",
       "        text-align: right;\n",
       "    }\n",
       "</style>\n",
       "<table border=\"1\" class=\"dataframe\">\n",
       "  <thead>\n",
       "    <tr style=\"text-align: right;\">\n",
       "      <th></th>\n",
       "      <th>CustomerID</th>\n",
       "      <th>Churn</th>\n",
       "      <th>Tenure</th>\n",
       "      <th>PreferredLoginDevice</th>\n",
       "      <th>CityTier</th>\n",
       "      <th>WarehouseToHome</th>\n",
       "      <th>PreferredPaymentMode</th>\n",
       "      <th>Gender</th>\n",
       "      <th>HourSpendOnApp</th>\n",
       "      <th>NumberOfDeviceRegistered</th>\n",
       "      <th>PreferedOrderCat</th>\n",
       "      <th>SatisfactionScore</th>\n",
       "      <th>MaritalStatus</th>\n",
       "      <th>NumberOfAddress</th>\n",
       "      <th>Complain</th>\n",
       "      <th>OrderAmountHikeFromlastYear</th>\n",
       "      <th>CouponUsed</th>\n",
       "      <th>OrderCount</th>\n",
       "      <th>DaySinceLastOrder</th>\n",
       "      <th>CashbackAmount</th>\n",
       "    </tr>\n",
       "  </thead>\n",
       "  <tbody>\n",
       "    <tr>\n",
       "      <th>4692</th>\n",
       "      <td>54693</td>\n",
       "      <td>0</td>\n",
       "      <td>21.0</td>\n",
       "      <td>Mobile Phone</td>\n",
       "      <td>3</td>\n",
       "      <td>21.0</td>\n",
       "      <td>E wallet</td>\n",
       "      <td>Male</td>\n",
       "      <td>3.0</td>\n",
       "      <td>4</td>\n",
       "      <td>Laptop &amp; Accessory</td>\n",
       "      <td>5</td>\n",
       "      <td>Single</td>\n",
       "      <td>4</td>\n",
       "      <td>0</td>\n",
       "      <td>13.0</td>\n",
       "      <td>2.0</td>\n",
       "      <td>2.0</td>\n",
       "      <td>8.0</td>\n",
       "      <td>174.60</td>\n",
       "    </tr>\n",
       "    <tr>\n",
       "      <th>4155</th>\n",
       "      <td>54156</td>\n",
       "      <td>0</td>\n",
       "      <td>10.0</td>\n",
       "      <td>Computer</td>\n",
       "      <td>1</td>\n",
       "      <td>30.0</td>\n",
       "      <td>Credit Card</td>\n",
       "      <td>Male</td>\n",
       "      <td>3.0</td>\n",
       "      <td>2</td>\n",
       "      <td>Laptop &amp; Accessory</td>\n",
       "      <td>1</td>\n",
       "      <td>Married</td>\n",
       "      <td>6</td>\n",
       "      <td>0</td>\n",
       "      <td>18.0</td>\n",
       "      <td>1.0</td>\n",
       "      <td>2.0</td>\n",
       "      <td>4.0</td>\n",
       "      <td>150.71</td>\n",
       "    </tr>\n",
       "    <tr>\n",
       "      <th>3998</th>\n",
       "      <td>53999</td>\n",
       "      <td>0</td>\n",
       "      <td>12.0</td>\n",
       "      <td>Mobile Phone</td>\n",
       "      <td>3</td>\n",
       "      <td>9.0</td>\n",
       "      <td>E wallet</td>\n",
       "      <td>Female</td>\n",
       "      <td>4.0</td>\n",
       "      <td>6</td>\n",
       "      <td>Laptop &amp; Accessory</td>\n",
       "      <td>1</td>\n",
       "      <td>Married</td>\n",
       "      <td>4</td>\n",
       "      <td>1</td>\n",
       "      <td>21.0</td>\n",
       "      <td>1.0</td>\n",
       "      <td>2.0</td>\n",
       "      <td>4.0</td>\n",
       "      <td>179.05</td>\n",
       "    </tr>\n",
       "    <tr>\n",
       "      <th>2386</th>\n",
       "      <td>52387</td>\n",
       "      <td>0</td>\n",
       "      <td>1.0</td>\n",
       "      <td>Mobile Phone</td>\n",
       "      <td>3</td>\n",
       "      <td>11.0</td>\n",
       "      <td>Credit Card</td>\n",
       "      <td>Male</td>\n",
       "      <td>2.0</td>\n",
       "      <td>3</td>\n",
       "      <td>Laptop &amp; Accessory</td>\n",
       "      <td>5</td>\n",
       "      <td>Single</td>\n",
       "      <td>1</td>\n",
       "      <td>0</td>\n",
       "      <td>18.0</td>\n",
       "      <td>0.0</td>\n",
       "      <td>1.0</td>\n",
       "      <td>3.0</td>\n",
       "      <td>184.63</td>\n",
       "    </tr>\n",
       "    <tr>\n",
       "      <th>3207</th>\n",
       "      <td>53208</td>\n",
       "      <td>0</td>\n",
       "      <td>1.0</td>\n",
       "      <td>Mobile Phone</td>\n",
       "      <td>3</td>\n",
       "      <td>15.0</td>\n",
       "      <td>Debit Card</td>\n",
       "      <td>Male</td>\n",
       "      <td>3.0</td>\n",
       "      <td>3</td>\n",
       "      <td>Laptop &amp; Accessory</td>\n",
       "      <td>4</td>\n",
       "      <td>Divorced</td>\n",
       "      <td>2</td>\n",
       "      <td>0</td>\n",
       "      <td>23.0</td>\n",
       "      <td>1.0</td>\n",
       "      <td>2.0</td>\n",
       "      <td>3.0</td>\n",
       "      <td>173.51</td>\n",
       "    </tr>\n",
       "    <tr>\n",
       "      <th>3447</th>\n",
       "      <td>53448</td>\n",
       "      <td>0</td>\n",
       "      <td>8.0</td>\n",
       "      <td>Mobile Phone</td>\n",
       "      <td>3</td>\n",
       "      <td>7.0</td>\n",
       "      <td>E wallet</td>\n",
       "      <td>Male</td>\n",
       "      <td>4.0</td>\n",
       "      <td>2</td>\n",
       "      <td>Laptop &amp; Accessory</td>\n",
       "      <td>2</td>\n",
       "      <td>Married</td>\n",
       "      <td>2</td>\n",
       "      <td>0</td>\n",
       "      <td>12.0</td>\n",
       "      <td>2.0</td>\n",
       "      <td>2.0</td>\n",
       "      <td>NaN</td>\n",
       "      <td>222.25</td>\n",
       "    </tr>\n",
       "    <tr>\n",
       "      <th>2640</th>\n",
       "      <td>52641</td>\n",
       "      <td>0</td>\n",
       "      <td>14.0</td>\n",
       "      <td>Mobile Phone</td>\n",
       "      <td>3</td>\n",
       "      <td>10.0</td>\n",
       "      <td>E wallet</td>\n",
       "      <td>Female</td>\n",
       "      <td>2.0</td>\n",
       "      <td>3</td>\n",
       "      <td>Fashion</td>\n",
       "      <td>3</td>\n",
       "      <td>Married</td>\n",
       "      <td>1</td>\n",
       "      <td>1</td>\n",
       "      <td>13.0</td>\n",
       "      <td>5.0</td>\n",
       "      <td>13.0</td>\n",
       "      <td>5.0</td>\n",
       "      <td>204.47</td>\n",
       "    </tr>\n",
       "    <tr>\n",
       "      <th>96</th>\n",
       "      <td>50097</td>\n",
       "      <td>0</td>\n",
       "      <td>6.0</td>\n",
       "      <td>Phone</td>\n",
       "      <td>1</td>\n",
       "      <td>NaN</td>\n",
       "      <td>CC</td>\n",
       "      <td>Female</td>\n",
       "      <td>2.0</td>\n",
       "      <td>4</td>\n",
       "      <td>Mobile</td>\n",
       "      <td>4</td>\n",
       "      <td>Divorced</td>\n",
       "      <td>7</td>\n",
       "      <td>0</td>\n",
       "      <td>21.0</td>\n",
       "      <td>0.0</td>\n",
       "      <td>1.0</td>\n",
       "      <td>1.0</td>\n",
       "      <td>126.22</td>\n",
       "    </tr>\n",
       "    <tr>\n",
       "      <th>3475</th>\n",
       "      <td>53476</td>\n",
       "      <td>0</td>\n",
       "      <td>14.0</td>\n",
       "      <td>Mobile Phone</td>\n",
       "      <td>1</td>\n",
       "      <td>27.0</td>\n",
       "      <td>Cash on Delivery</td>\n",
       "      <td>Male</td>\n",
       "      <td>4.0</td>\n",
       "      <td>4</td>\n",
       "      <td>Fashion</td>\n",
       "      <td>2</td>\n",
       "      <td>Divorced</td>\n",
       "      <td>6</td>\n",
       "      <td>0</td>\n",
       "      <td>21.0</td>\n",
       "      <td>5.0</td>\n",
       "      <td>12.0</td>\n",
       "      <td>NaN</td>\n",
       "      <td>228.22</td>\n",
       "    </tr>\n",
       "    <tr>\n",
       "      <th>755</th>\n",
       "      <td>50756</td>\n",
       "      <td>0</td>\n",
       "      <td>5.0</td>\n",
       "      <td>Computer</td>\n",
       "      <td>1</td>\n",
       "      <td>19.0</td>\n",
       "      <td>UPI</td>\n",
       "      <td>Female</td>\n",
       "      <td>NaN</td>\n",
       "      <td>4</td>\n",
       "      <td>Mobile</td>\n",
       "      <td>4</td>\n",
       "      <td>Divorced</td>\n",
       "      <td>2</td>\n",
       "      <td>0</td>\n",
       "      <td>20.0</td>\n",
       "      <td>0.0</td>\n",
       "      <td>2.0</td>\n",
       "      <td>2.0</td>\n",
       "      <td>127.43</td>\n",
       "    </tr>\n",
       "  </tbody>\n",
       "</table>\n",
       "</div>"
      ],
      "text/plain": [
       "      CustomerID  Churn  Tenure PreferredLoginDevice  CityTier  \\\n",
       "4692       54693      0    21.0         Mobile Phone         3   \n",
       "4155       54156      0    10.0             Computer         1   \n",
       "3998       53999      0    12.0         Mobile Phone         3   \n",
       "2386       52387      0     1.0         Mobile Phone         3   \n",
       "3207       53208      0     1.0         Mobile Phone         3   \n",
       "3447       53448      0     8.0         Mobile Phone         3   \n",
       "2640       52641      0    14.0         Mobile Phone         3   \n",
       "96         50097      0     6.0                Phone         1   \n",
       "3475       53476      0    14.0         Mobile Phone         1   \n",
       "755        50756      0     5.0             Computer         1   \n",
       "\n",
       "      WarehouseToHome PreferredPaymentMode  Gender  HourSpendOnApp  \\\n",
       "4692             21.0             E wallet    Male             3.0   \n",
       "4155             30.0          Credit Card    Male             3.0   \n",
       "3998              9.0             E wallet  Female             4.0   \n",
       "2386             11.0          Credit Card    Male             2.0   \n",
       "3207             15.0           Debit Card    Male             3.0   \n",
       "3447              7.0             E wallet    Male             4.0   \n",
       "2640             10.0             E wallet  Female             2.0   \n",
       "96                NaN                   CC  Female             2.0   \n",
       "3475             27.0     Cash on Delivery    Male             4.0   \n",
       "755              19.0                  UPI  Female             NaN   \n",
       "\n",
       "      NumberOfDeviceRegistered    PreferedOrderCat  SatisfactionScore  \\\n",
       "4692                         4  Laptop & Accessory                  5   \n",
       "4155                         2  Laptop & Accessory                  1   \n",
       "3998                         6  Laptop & Accessory                  1   \n",
       "2386                         3  Laptop & Accessory                  5   \n",
       "3207                         3  Laptop & Accessory                  4   \n",
       "3447                         2  Laptop & Accessory                  2   \n",
       "2640                         3             Fashion                  3   \n",
       "96                           4              Mobile                  4   \n",
       "3475                         4             Fashion                  2   \n",
       "755                          4              Mobile                  4   \n",
       "\n",
       "     MaritalStatus  NumberOfAddress  Complain  OrderAmountHikeFromlastYear  \\\n",
       "4692        Single                4         0                         13.0   \n",
       "4155       Married                6         0                         18.0   \n",
       "3998       Married                4         1                         21.0   \n",
       "2386        Single                1         0                         18.0   \n",
       "3207      Divorced                2         0                         23.0   \n",
       "3447       Married                2         0                         12.0   \n",
       "2640       Married                1         1                         13.0   \n",
       "96        Divorced                7         0                         21.0   \n",
       "3475      Divorced                6         0                         21.0   \n",
       "755       Divorced                2         0                         20.0   \n",
       "\n",
       "      CouponUsed  OrderCount  DaySinceLastOrder  CashbackAmount  \n",
       "4692         2.0         2.0                8.0          174.60  \n",
       "4155         1.0         2.0                4.0          150.71  \n",
       "3998         1.0         2.0                4.0          179.05  \n",
       "2386         0.0         1.0                3.0          184.63  \n",
       "3207         1.0         2.0                3.0          173.51  \n",
       "3447         2.0         2.0                NaN          222.25  \n",
       "2640         5.0        13.0                5.0          204.47  \n",
       "96           0.0         1.0                1.0          126.22  \n",
       "3475         5.0        12.0                NaN          228.22  \n",
       "755          0.0         2.0                2.0          127.43  "
      ]
     },
     "execution_count": 7,
     "metadata": {},
     "output_type": "execute_result"
    }
   ],
   "source": [
    "url='https://github.com/anvarnarz/praktikum_datasets/blob/main/E-Commerce-Dataset.xlsx?raw=true'\n",
    "\n",
    "df=pd.read_excel(url, sheet_name='E Comm')\n",
    "df.sample(10)"
   ]
  },
  {
   "cell_type": "code",
   "execution_count": 9,
   "id": "4a0d08c5",
   "metadata": {},
   "outputs": [
    {
     "data": {
      "text/html": [
       "<div>\n",
       "<style scoped>\n",
       "    .dataframe tbody tr th:only-of-type {\n",
       "        vertical-align: middle;\n",
       "    }\n",
       "\n",
       "    .dataframe tbody tr th {\n",
       "        vertical-align: top;\n",
       "    }\n",
       "\n",
       "    .dataframe thead th {\n",
       "        text-align: right;\n",
       "    }\n",
       "</style>\n",
       "<table border=\"1\" class=\"dataframe\">\n",
       "  <thead>\n",
       "    <tr style=\"text-align: right;\">\n",
       "      <th></th>\n",
       "      <th>Data</th>\n",
       "      <th>Variable</th>\n",
       "      <th>Discerption</th>\n",
       "    </tr>\n",
       "  </thead>\n",
       "  <tbody>\n",
       "    <tr>\n",
       "      <th>0</th>\n",
       "      <td>E Comm</td>\n",
       "      <td>CustomerID</td>\n",
       "      <td>Unique customer ID</td>\n",
       "    </tr>\n",
       "    <tr>\n",
       "      <th>1</th>\n",
       "      <td>E Comm</td>\n",
       "      <td>Churn</td>\n",
       "      <td>Churn Flag</td>\n",
       "    </tr>\n",
       "    <tr>\n",
       "      <th>2</th>\n",
       "      <td>E Comm</td>\n",
       "      <td>Tenure</td>\n",
       "      <td>Tenure of customer in organization</td>\n",
       "    </tr>\n",
       "    <tr>\n",
       "      <th>3</th>\n",
       "      <td>E Comm</td>\n",
       "      <td>PreferredLoginDevice</td>\n",
       "      <td>Preferred login device of customer</td>\n",
       "    </tr>\n",
       "    <tr>\n",
       "      <th>4</th>\n",
       "      <td>E Comm</td>\n",
       "      <td>CityTier</td>\n",
       "      <td>City tier</td>\n",
       "    </tr>\n",
       "    <tr>\n",
       "      <th>5</th>\n",
       "      <td>E Comm</td>\n",
       "      <td>WarehouseToHome</td>\n",
       "      <td>Distance in between warehouse to home of customer</td>\n",
       "    </tr>\n",
       "    <tr>\n",
       "      <th>6</th>\n",
       "      <td>E Comm</td>\n",
       "      <td>PreferredPaymentMode</td>\n",
       "      <td>Preferred payment method of customer</td>\n",
       "    </tr>\n",
       "    <tr>\n",
       "      <th>7</th>\n",
       "      <td>E Comm</td>\n",
       "      <td>Gender</td>\n",
       "      <td>Gender of customer</td>\n",
       "    </tr>\n",
       "    <tr>\n",
       "      <th>8</th>\n",
       "      <td>E Comm</td>\n",
       "      <td>HourSpendOnApp</td>\n",
       "      <td>Number of hours spend on mobile application or...</td>\n",
       "    </tr>\n",
       "    <tr>\n",
       "      <th>9</th>\n",
       "      <td>E Comm</td>\n",
       "      <td>NumberOfDeviceRegistered</td>\n",
       "      <td>Total number of deceives is registered on part...</td>\n",
       "    </tr>\n",
       "    <tr>\n",
       "      <th>10</th>\n",
       "      <td>E Comm</td>\n",
       "      <td>PreferedOrderCat</td>\n",
       "      <td>Preferred order category of customer in last m...</td>\n",
       "    </tr>\n",
       "    <tr>\n",
       "      <th>11</th>\n",
       "      <td>E Comm</td>\n",
       "      <td>SatisfactionScore</td>\n",
       "      <td>Satisfactory score of customer on service</td>\n",
       "    </tr>\n",
       "    <tr>\n",
       "      <th>12</th>\n",
       "      <td>E Comm</td>\n",
       "      <td>MaritalStatus</td>\n",
       "      <td>Marital status of customer</td>\n",
       "    </tr>\n",
       "    <tr>\n",
       "      <th>13</th>\n",
       "      <td>E Comm</td>\n",
       "      <td>NumberOfAddress</td>\n",
       "      <td>Total number of added added on particular cust...</td>\n",
       "    </tr>\n",
       "    <tr>\n",
       "      <th>14</th>\n",
       "      <td>E Comm</td>\n",
       "      <td>Complain</td>\n",
       "      <td>Any complaint has been raised in last month</td>\n",
       "    </tr>\n",
       "    <tr>\n",
       "      <th>15</th>\n",
       "      <td>E Comm</td>\n",
       "      <td>OrderAmountHikeFromlastYear</td>\n",
       "      <td>Percentage increases in order from last year</td>\n",
       "    </tr>\n",
       "    <tr>\n",
       "      <th>16</th>\n",
       "      <td>E Comm</td>\n",
       "      <td>CouponUsed</td>\n",
       "      <td>Total number of coupon has been used in last m...</td>\n",
       "    </tr>\n",
       "    <tr>\n",
       "      <th>17</th>\n",
       "      <td>E Comm</td>\n",
       "      <td>OrderCount</td>\n",
       "      <td>Total number of orders has been places in last...</td>\n",
       "    </tr>\n",
       "    <tr>\n",
       "      <th>18</th>\n",
       "      <td>E Comm</td>\n",
       "      <td>DaySinceLastOrder</td>\n",
       "      <td>Day Since last order by customer</td>\n",
       "    </tr>\n",
       "    <tr>\n",
       "      <th>19</th>\n",
       "      <td>E Comm</td>\n",
       "      <td>CashbackAmount</td>\n",
       "      <td>Average cashback in last month</td>\n",
       "    </tr>\n",
       "  </tbody>\n",
       "</table>\n",
       "</div>"
      ],
      "text/plain": [
       "      Data                     Variable  \\\n",
       "0   E Comm                   CustomerID   \n",
       "1   E Comm                        Churn   \n",
       "2   E Comm                       Tenure   \n",
       "3   E Comm         PreferredLoginDevice   \n",
       "4   E Comm                     CityTier   \n",
       "5   E Comm              WarehouseToHome   \n",
       "6   E Comm         PreferredPaymentMode   \n",
       "7   E Comm                       Gender   \n",
       "8   E Comm               HourSpendOnApp   \n",
       "9   E Comm     NumberOfDeviceRegistered   \n",
       "10  E Comm             PreferedOrderCat   \n",
       "11  E Comm            SatisfactionScore   \n",
       "12  E Comm                MaritalStatus   \n",
       "13  E Comm              NumberOfAddress   \n",
       "14  E Comm                     Complain   \n",
       "15  E Comm  OrderAmountHikeFromlastYear   \n",
       "16  E Comm                   CouponUsed   \n",
       "17  E Comm                   OrderCount   \n",
       "18  E Comm            DaySinceLastOrder   \n",
       "19  E Comm               CashbackAmount   \n",
       "\n",
       "                                          Discerption  \n",
       "0                                  Unique customer ID  \n",
       "1                                          Churn Flag  \n",
       "2                  Tenure of customer in organization  \n",
       "3                  Preferred login device of customer  \n",
       "4                                           City tier  \n",
       "5   Distance in between warehouse to home of customer  \n",
       "6                Preferred payment method of customer  \n",
       "7                                  Gender of customer  \n",
       "8   Number of hours spend on mobile application or...  \n",
       "9   Total number of deceives is registered on part...  \n",
       "10  Preferred order category of customer in last m...  \n",
       "11          Satisfactory score of customer on service  \n",
       "12                         Marital status of customer  \n",
       "13  Total number of added added on particular cust...  \n",
       "14        Any complaint has been raised in last month  \n",
       "15       Percentage increases in order from last year  \n",
       "16  Total number of coupon has been used in last m...  \n",
       "17  Total number of orders has been places in last...  \n",
       "18                   Day Since last order by customer  \n",
       "19                     Average cashback in last month  "
      ]
     },
     "execution_count": 9,
     "metadata": {},
     "output_type": "execute_result"
    }
   ],
   "source": [
    "pd.read_excel(url, sheet_name='Data Dict', header=1, usecols=[1,2,3])"
   ]
  },
  {
   "cell_type": "code",
   "execution_count": 10,
   "id": "3016da74",
   "metadata": {},
   "outputs": [
    {
     "name": "stdout",
     "output_type": "stream",
     "text": [
      "<class 'pandas.core.frame.DataFrame'>\n",
      "RangeIndex: 5630 entries, 0 to 5629\n",
      "Data columns (total 20 columns):\n",
      " #   Column                       Non-Null Count  Dtype  \n",
      "---  ------                       --------------  -----  \n",
      " 0   CustomerID                   5630 non-null   int64  \n",
      " 1   Churn                        5630 non-null   int64  \n",
      " 2   Tenure                       5366 non-null   float64\n",
      " 3   PreferredLoginDevice         5630 non-null   object \n",
      " 4   CityTier                     5630 non-null   int64  \n",
      " 5   WarehouseToHome              5379 non-null   float64\n",
      " 6   PreferredPaymentMode         5630 non-null   object \n",
      " 7   Gender                       5630 non-null   object \n",
      " 8   HourSpendOnApp               5375 non-null   float64\n",
      " 9   NumberOfDeviceRegistered     5630 non-null   int64  \n",
      " 10  PreferedOrderCat             5630 non-null   object \n",
      " 11  SatisfactionScore            5630 non-null   int64  \n",
      " 12  MaritalStatus                5630 non-null   object \n",
      " 13  NumberOfAddress              5630 non-null   int64  \n",
      " 14  Complain                     5630 non-null   int64  \n",
      " 15  OrderAmountHikeFromlastYear  5365 non-null   float64\n",
      " 16  CouponUsed                   5374 non-null   float64\n",
      " 17  OrderCount                   5372 non-null   float64\n",
      " 18  DaySinceLastOrder            5323 non-null   float64\n",
      " 19  CashbackAmount               5630 non-null   float64\n",
      "dtypes: float64(8), int64(7), object(5)\n",
      "memory usage: 879.8+ KB\n"
     ]
    }
   ],
   "source": [
    "df.info()"
   ]
  },
  {
   "cell_type": "code",
   "execution_count": 11,
   "id": "8fc96c09",
   "metadata": {},
   "outputs": [
    {
     "data": {
      "text/plain": [
       "CustomerID                       0\n",
       "Churn                            0\n",
       "Tenure                         264\n",
       "PreferredLoginDevice             0\n",
       "CityTier                         0\n",
       "WarehouseToHome                251\n",
       "PreferredPaymentMode             0\n",
       "Gender                           0\n",
       "HourSpendOnApp                 255\n",
       "NumberOfDeviceRegistered         0\n",
       "PreferedOrderCat                 0\n",
       "SatisfactionScore                0\n",
       "MaritalStatus                    0\n",
       "NumberOfAddress                  0\n",
       "Complain                         0\n",
       "OrderAmountHikeFromlastYear    265\n",
       "CouponUsed                     256\n",
       "OrderCount                     258\n",
       "DaySinceLastOrder              307\n",
       "CashbackAmount                   0\n",
       "dtype: int64"
      ]
     },
     "execution_count": 11,
     "metadata": {},
     "output_type": "execute_result"
    }
   ],
   "source": [
    "df.isnull().sum()"
   ]
  },
  {
   "cell_type": "code",
   "execution_count": 19,
   "id": "6867a0f4",
   "metadata": {},
   "outputs": [
    {
     "data": {
      "text/plain": [
       "0    4682\n",
       "1     948\n",
       "Name: Churn, dtype: int64"
      ]
     },
     "execution_count": 19,
     "metadata": {},
     "output_type": "execute_result"
    }
   ],
   "source": [
    "df['Churn'].value_counts()"
   ]
  },
  {
   "cell_type": "code",
   "execution_count": 86,
   "id": "11e7dec3",
   "metadata": {},
   "outputs": [
    {
     "data": {
      "image/png": "[encoded data removed]",
      "text/plain": [
       "<Figure size 432x288 with 1 Axes>"
      ]
     },
     "metadata": {},
     "output_type": "display_data"
    }
   ],
   "source": [
    "diff=df['Churn'].value_counts()/len(df)*100\n",
    "plt.pie(diff, labels=['Revisited', \"Did't revisit\"])\n",
    "plt.show()"
   ]
  },
  {
   "cell_type": "code",
   "execution_count": 87,
   "id": "bacae73d",
   "metadata": {},
   "outputs": [
    {
     "data": {
      "image/png": "[encoded data removed]",
      "text/plain": [
       "<Figure size 1296x432 with 3 Axes>"
      ]
     },
     "metadata": {
      "needs_background": "light"
     },
     "output_type": "display_data"
    }
   ],
   "source": [
    "fig, axes= plt.subplots(1,3, figsize=(18,6))\n",
    "\n",
    "sns.histplot(x='Tenure', data=df, ax=axes[0])\n",
    "axes[0].set_title(\"Tenure of customer in organization\")\n",
    "\n",
    "sns.histplot(x='OrderCount', data=df, ax=axes[1])\n",
    "axes[1].set_title(\"Total number of orders has been places in last...\")\n",
    "\n",
    "sns.histplot(x='CashbackAmount', data=df, ax=axes[2])\n",
    "axes[2].set_title(\"Average cashback in last month\")\n",
    "\n",
    "plt.show()"
   ]
  },
  {
   "cell_type": "code",
   "execution_count": 88,
   "id": "e6f9c573",
   "metadata": {},
   "outputs": [
    {
     "data": {
      "image/png": "[encoded data removed]",
      "text/plain": [
       "<Figure size 1296x432 with 3 Axes>"
      ]
     },
     "metadata": {
      "needs_background": "light"
     },
     "output_type": "display_data"
    }
   ],
   "source": [
    "fig, axes=plt.subplots(1,3, figsize=(18,6))\n",
    "\n",
    "sns.countplot(x='Complain',hue='Churn', data=df, ax=axes[0])\n",
    "\n",
    "sns.countplot(x='Gender',hue='Churn' ,data=df, ax=axes[1])\n",
    "axes[1].set_title(\"by sex of those customers\")\n",
    "\n",
    "sns.countplot(x='MaritalStatus',hue='Churn', data=df, ax=axes[2])\n",
    "axes[2].set_title(\"by Marital Status of those customers\")\n",
    "\n",
    "plt.show()\n"
   ]
  },
  {
   "cell_type": "code",
   "execution_count": 34,
   "id": "7e5527ac",
   "metadata": {},
   "outputs": [
    {
     "name": "stdout",
     "output_type": "stream",
     "text": [
      "Amount of Nan values %: 33.0%\n",
      "Amount of rows which consist of Nan values: 1856\n"
     ]
    }
   ],
   "source": [
    "print(f\"Amount of Nan values %: {np.round(df.isnull().sum().sum()/len(df)*100)}%\")\n",
    "nan_rows=df[df.isnull().any(axis=1)].shape[0]\n",
    "print(f\"Amount of rows which consist of Nan values: {nan_rows}\")"
   ]
  },
  {
   "cell_type": "code",
   "execution_count": null,
   "id": "5759f13f",
   "metadata": {},
   "outputs": [],
   "source": [
    "# I guess 33 % nan value is a bit more to work with, that is why I dicided to pick high correlated columns \n",
    "# the point is to reduce nan value rows, if it is less enough, we can deal with them easily"
   ]
  },
  {
   "cell_type": "code",
   "execution_count": 35,
   "id": "5f0befa6",
   "metadata": {},
   "outputs": [
    {
     "data": {
      "text/plain": [
       "Churn                          1.000000\n",
       "Tenure                         0.349408\n",
       "Complain                       0.250188\n",
       "DaySinceLastOrder              0.160757\n",
       "CashbackAmount                 0.154118\n",
       "NumberOfDeviceRegistered       0.107939\n",
       "SatisfactionScore              0.105481\n",
       "CityTier                       0.084703\n",
       "WarehouseToHome                0.076630\n",
       "NumberOfAddress                0.043931\n",
       "OrderCount                     0.028697\n",
       "CustomerID                     0.019083\n",
       "HourSpendOnApp                 0.018675\n",
       "OrderAmountHikeFromlastYear    0.010058\n",
       "CouponUsed                     0.008264\n",
       "dtype: float64"
      ]
     },
     "execution_count": 35,
     "metadata": {},
     "output_type": "execute_result"
    }
   ],
   "source": [
    "df.corrwith(df['Churn']).abs().sort_values(ascending=False)"
   ]
  },
  {
   "cell_type": "code",
   "execution_count": 36,
   "id": "97e66f98",
   "metadata": {},
   "outputs": [],
   "source": [
    "data=df[['Churn', 'Tenure','Complain','DaySinceLastOrder','CashbackAmount','Gender', 'MaritalStatus']]"
   ]
  },
  {
   "cell_type": "code",
   "execution_count": 37,
   "id": "128f2cb5",
   "metadata": {},
   "outputs": [
    {
     "name": "stdout",
     "output_type": "stream",
     "text": [
      "Amount of Nan values %: 10.0%\n",
      "Amount of rows which consist of Nan values: 571\n"
     ]
    }
   ],
   "source": [
    "# Retrying to check for Nan values\n",
    "print(f\"Amount of Nan values %: {np.round(data.isnull().sum().sum()/len(data)*100)}%\")\n",
    "nan_rows=data[data.isnull().any(axis=1)].shape[0]\n",
    "print(f\"Amount of rows which consist of Nan values: {nan_rows}\")"
   ]
  },
  {
   "cell_type": "code",
   "execution_count": 39,
   "id": "89860528",
   "metadata": {},
   "outputs": [],
   "source": [
    "# This would be enough to pass those nan values as there is more data to deal with\n",
    "data.dropna(inplace=True)"
   ]
  },
  {
   "cell_type": "code",
   "execution_count": 41,
   "id": "aceff731",
   "metadata": {},
   "outputs": [
    {
     "data": {
      "text/plain": [
       "(5059, 7)"
      ]
     },
     "execution_count": 41,
     "metadata": {},
     "output_type": "execute_result"
    }
   ],
   "source": [
    "data.shape"
   ]
  },
  {
   "cell_type": "code",
   "execution_count": 42,
   "id": "ad4cc5c3",
   "metadata": {},
   "outputs": [],
   "source": [
    "# Preparing for Machine Learning"
   ]
  },
  {
   "cell_type": "code",
   "execution_count": 54,
   "id": "edb16d04",
   "metadata": {},
   "outputs": [
    {
     "data": {
      "text/html": [
       "<div>\n",
       "<style scoped>\n",
       "    .dataframe tbody tr th:only-of-type {\n",
       "        vertical-align: middle;\n",
       "    }\n",
       "\n",
       "    .dataframe tbody tr th {\n",
       "        vertical-align: top;\n",
       "    }\n",
       "\n",
       "    .dataframe thead th {\n",
       "        text-align: right;\n",
       "    }\n",
       "</style>\n",
       "<table border=\"1\" class=\"dataframe\">\n",
       "  <thead>\n",
       "    <tr style=\"text-align: right;\">\n",
       "      <th></th>\n",
       "      <th>Churn</th>\n",
       "      <th>Tenure</th>\n",
       "      <th>Complain</th>\n",
       "      <th>DaySinceLastOrder</th>\n",
       "      <th>CashbackAmount</th>\n",
       "      <th>Gender_Female</th>\n",
       "      <th>Gender_Male</th>\n",
       "      <th>MaritalStatus_Divorced</th>\n",
       "      <th>MaritalStatus_Married</th>\n",
       "      <th>MaritalStatus_Single</th>\n",
       "    </tr>\n",
       "  </thead>\n",
       "  <tbody>\n",
       "    <tr>\n",
       "      <th>0</th>\n",
       "      <td>1</td>\n",
       "      <td>4.0</td>\n",
       "      <td>1</td>\n",
       "      <td>5.0</td>\n",
       "      <td>159.93</td>\n",
       "      <td>1</td>\n",
       "      <td>0</td>\n",
       "      <td>0</td>\n",
       "      <td>0</td>\n",
       "      <td>1</td>\n",
       "    </tr>\n",
       "    <tr>\n",
       "      <th>3</th>\n",
       "      <td>1</td>\n",
       "      <td>0.0</td>\n",
       "      <td>0</td>\n",
       "      <td>3.0</td>\n",
       "      <td>134.07</td>\n",
       "      <td>0</td>\n",
       "      <td>1</td>\n",
       "      <td>0</td>\n",
       "      <td>0</td>\n",
       "      <td>1</td>\n",
       "    </tr>\n",
       "    <tr>\n",
       "      <th>4</th>\n",
       "      <td>1</td>\n",
       "      <td>0.0</td>\n",
       "      <td>0</td>\n",
       "      <td>3.0</td>\n",
       "      <td>129.60</td>\n",
       "      <td>0</td>\n",
       "      <td>1</td>\n",
       "      <td>0</td>\n",
       "      <td>0</td>\n",
       "      <td>1</td>\n",
       "    </tr>\n",
       "    <tr>\n",
       "      <th>5</th>\n",
       "      <td>1</td>\n",
       "      <td>0.0</td>\n",
       "      <td>1</td>\n",
       "      <td>7.0</td>\n",
       "      <td>139.19</td>\n",
       "      <td>1</td>\n",
       "      <td>0</td>\n",
       "      <td>0</td>\n",
       "      <td>0</td>\n",
       "      <td>1</td>\n",
       "    </tr>\n",
       "    <tr>\n",
       "      <th>8</th>\n",
       "      <td>1</td>\n",
       "      <td>13.0</td>\n",
       "      <td>1</td>\n",
       "      <td>2.0</td>\n",
       "      <td>126.83</td>\n",
       "      <td>0</td>\n",
       "      <td>1</td>\n",
       "      <td>1</td>\n",
       "      <td>0</td>\n",
       "      <td>0</td>\n",
       "    </tr>\n",
       "  </tbody>\n",
       "</table>\n",
       "</div>"
      ],
      "text/plain": [
       "   Churn  Tenure  Complain  DaySinceLastOrder  CashbackAmount  Gender_Female  \\\n",
       "0      1     4.0         1                5.0          159.93              1   \n",
       "3      1     0.0         0                3.0          134.07              0   \n",
       "4      1     0.0         0                3.0          129.60              0   \n",
       "5      1     0.0         1                7.0          139.19              1   \n",
       "8      1    13.0         1                2.0          126.83              0   \n",
       "\n",
       "   Gender_Male  MaritalStatus_Divorced  MaritalStatus_Married  \\\n",
       "0            0                       0                      0   \n",
       "3            1                       0                      0   \n",
       "4            1                       0                      0   \n",
       "5            0                       0                      0   \n",
       "8            1                       1                      0   \n",
       "\n",
       "   MaritalStatus_Single  \n",
       "0                     1  \n",
       "3                     1  \n",
       "4                     1  \n",
       "5                     1  \n",
       "8                     0  "
      ]
     },
     "execution_count": 54,
     "metadata": {},
     "output_type": "execute_result"
    }
   ],
   "source": [
    "encoded=pd.get_dummies(data)\n",
    "encoded.head()"
   ]
  },
  {
   "cell_type": "code",
   "execution_count": 61,
   "id": "6c5199f1",
   "metadata": {},
   "outputs": [],
   "source": [
    "x=encoded.drop('Churn', axis=1)\n",
    "y=encoded['Churn']"
   ]
  },
  {
   "cell_type": "code",
   "execution_count": 64,
   "id": "30843857",
   "metadata": {},
   "outputs": [],
   "source": [
    "s_scaler=StandardScaler()\n",
    "X=s_scaler.fit_transform(x)\n",
    "\n",
    "x_train, x_test, y_train, y_test= train_test_split(X,y, test_size=0.2, random_state=0)"
   ]
  },
  {
   "cell_type": "code",
   "execution_count": 67,
   "id": "f3a5e186",
   "metadata": {},
   "outputs": [
    {
     "name": "stdout",
     "output_type": "stream",
     "text": [
      "              precision    recall  f1-score   support\n",
      "\n",
      "           0       0.92      0.96      0.94       873\n",
      "           1       0.67      0.47      0.56       139\n",
      "\n",
      "    accuracy                           0.90      1012\n",
      "   macro avg       0.80      0.72      0.75      1012\n",
      "weighted avg       0.89      0.90      0.89      1012\n",
      "\n",
      "Accuracy score: 0.8962450592885376\n"
     ]
    },
    {
     "data": {
      "image/png": "[encoded data removed]",
      "text/plain": [
       "<Figure size 432x288 with 2 Axes>"
      ]
     },
     "metadata": {
      "needs_background": "light"
     },
     "output_type": "display_data"
    },
    {
     "data": {
      "image/png": "[encoded data removed]",
      "text/plain": [
       "<Figure size 432x288 with 1 Axes>"
      ]
     },
     "metadata": {
      "needs_background": "light"
     },
     "output_type": "display_data"
    }
   ],
   "source": [
    "# Logistic Regression\n",
    "\n",
    "lr_model=LogisticRegression()\n",
    "lr_model.fit(x_train, y_train)\n",
    "\n",
    "y_pred=lr_model.predict(x_test)\n",
    "print(metrics.classification_report(y_test, y_pred))\n",
    "print(\"Accuracy score:\", metrics.accuracy_score(y_test, y_pred))\n",
    "\n",
    "con_mat=metrics.confusion_matrix(y_test, y_pred)\n",
    "sns.heatmap(con_mat, annot=True, fmt='g')\n",
    "plt.show()\n",
    "\n",
    "fpr, tpr, threshholds= metrics.roc_curve(y_test, y_pred)\n",
    "auc_roc=metrics.auc(fpr, tpr)\n",
    "display=metrics.RocCurveDisplay(fpr=fpr, tpr=tpr, roc_auc=auc_roc, estimator_name='Roc Curve')\n",
    "display.plot()\n",
    "plt.show()"
   ]
  },
  {
   "cell_type": "code",
   "execution_count": 75,
   "id": "77f2c75e",
   "metadata": {},
   "outputs": [
    {
     "name": "stdout",
     "output_type": "stream",
     "text": [
      "              precision    recall  f1-score   support\n",
      "\n",
      "           0       0.98      0.96      0.97       873\n",
      "           1       0.78      0.86      0.82       139\n",
      "\n",
      "    accuracy                           0.95      1012\n",
      "   macro avg       0.88      0.91      0.89      1012\n",
      "weighted avg       0.95      0.95      0.95      1012\n",
      "\n",
      "Accuracy score: 0.9466403162055336\n"
     ]
    },
    {
     "data": {
      "image/png": "[encoded data removed]",
      "text/plain": [
       "<Figure size 432x288 with 2 Axes>"
      ]
     },
     "metadata": {
      "needs_background": "light"
     },
     "output_type": "display_data"
    },
    {
     "data": {
      "image/png": "[encoded data removed]",
      "text/plain": [
       "<Figure size 432x288 with 1 Axes>"
      ]
     },
     "metadata": {
      "needs_background": "light"
     },
     "output_type": "display_data"
    }
   ],
   "source": [
    "# Decion Tree \n",
    "\n",
    "tree_model=DecisionTreeClassifier()\n",
    "tree_model.fit(x_train, y_train)\n",
    "\n",
    "y_predict=tree_model.predict(x_test)\n",
    "print(metrics.classification_report(y_test, y_predict))\n",
    "print(\"Accuracy score:\", metrics.accuracy_score(y_test, y_predict))\n",
    "\n",
    "con_mat=metrics.confusion_matrix(y_test, y_predict)\n",
    "sns.heatmap(con_mat, annot=True, fmt= 'g')\n",
    "plt.show()\n",
    "\n",
    "fpr, tpr, threshholds= metrics.roc_curve(y_test, y_predict)\n",
    "roc_auc=metrics.auc(fpr, tpr)\n",
    "display=metrics.RocCurveDisplay(fpr=fpr, tpr=tpr, roc_auc=roc_auc, estimator_name='Roc Curve')\n",
    "display.plot()\n",
    "\n",
    "plt.show()"
   ]
  },
  {
   "cell_type": "code",
   "execution_count": 85,
   "id": "4abb8161",
   "metadata": {},
   "outputs": [
    {
     "data": {
      "image/png": "[encoded data removed]",
      "text/plain": [
       "<Figure size 1152x864 with 1 Axes>"
      ]
     },
     "metadata": {
      "needs_background": "light"
     },
     "output_type": "display_data"
    }
   ],
   "source": [
    "# Drawing tree\n",
    "\n",
    "cols=encoded.drop('Churn', axis=1).columns\n",
    "\n",
    "plt.figure(figsize=(16,12))\n",
    "plot_tree(tree_model,max_depth=3, feature_names=cols, filled=True )\n",
    "plt.show()"
   ]
  },
  {
   "cell_type": "code",
   "execution_count": 80,
   "id": "26189c89",
   "metadata": {},
   "outputs": [
    {
     "name": "stdout",
     "output_type": "stream",
     "text": [
      "              precision    recall  f1-score   support\n",
      "\n",
      "           0       0.96      0.94      0.95       873\n",
      "           1       0.69      0.78      0.73       139\n",
      "\n",
      "    accuracy                           0.92      1012\n",
      "   macro avg       0.83      0.86      0.84      1012\n",
      "weighted avg       0.93      0.92      0.92      1012\n",
      "\n",
      "Accuracy score: 0.9209486166007905\n"
     ]
    },
    {
     "data": {
      "image/png": "[encoded data removed]",
      "text/plain": [
       "<Figure size 432x288 with 2 Axes>"
      ]
     },
     "metadata": {
      "needs_background": "light"
     },
     "output_type": "display_data"
    },
    {
     "data": {
      "image/png": "[encoded data removed]",
      "text/plain": [
       "<Figure size 432x288 with 1 Axes>"
      ]
     },
     "metadata": {
      "needs_background": "light"
     },
     "output_type": "display_data"
    }
   ],
   "source": [
    "# Random Forest Classifier \n",
    "\n",
    "rf_model=RandomForestClassifier(n_estimators=5)\n",
    "rf_model.fit(x_train, y_train)\n",
    "\n",
    "y_predict2=rf_model.predict(x_test)\n",
    "print(metrics.classification_report(y_test, y_predict2))\n",
    "print(\"Accuracy score:\", metrics.accuracy_score(y_test, y_predict2))\n",
    "\n",
    "con_mat2=metrics.confusion_matrix(y_test, y_predict2)\n",
    "sns.heatmap(con_mat2, annot=True, fmt='g')\n",
    "plt.show()\n",
    "\n",
    "fpr, tpr, threshholds= metrics.roc_curve(y_test, y_predict2)\n",
    "roc_auc=metrics.auc(fpr, tpr)\n",
    "display=metrics.RocCurveDisplay(fpr=fpr, tpr=tpr, roc_auc=roc_auc, estimator_name='Roc Curve')\n",
    "display.plot()\n",
    "plt.show()"
   ]
  },
  {
   "cell_type": "code",
   "execution_count": 81,
   "id": "3e0d7a30",
   "metadata": {},
   "outputs": [
    {
     "name": "stdout",
     "output_type": "stream",
     "text": [
      "              precision    recall  f1-score   support\n",
      "\n",
      "           0       0.91      0.96      0.93       873\n",
      "           1       0.61      0.37      0.46       139\n",
      "\n",
      "    accuracy                           0.88      1012\n",
      "   macro avg       0.76      0.66      0.70      1012\n",
      "weighted avg       0.86      0.88      0.87      1012\n",
      "\n",
      "Accuracy score:  0.8804347826086957\n"
     ]
    },
    {
     "data": {
      "image/png": "[encoded data removed]",
      "text/plain": [
       "<Figure size 432x288 with 2 Axes>"
      ]
     },
     "metadata": {
      "needs_background": "light"
     },
     "output_type": "display_data"
    },
    {
     "data": {
      "image/png": "[encoded data removed]",
      "text/plain": [
       "<Figure size 432x288 with 1 Axes>"
      ]
     },
     "metadata": {
      "needs_background": "light"
     },
     "output_type": "display_data"
    }
   ],
   "source": [
    "# Support Vector Machine\n",
    "\n",
    "svm_model=SVC()\n",
    "svm_model.fit(x_train, y_train)\n",
    "\n",
    "y_predict3= svm_model.predict(x_test)\n",
    "print(metrics.classification_report(y_test, y_predict3))\n",
    "print(\"Accuracy score: \", metrics.accuracy_score(y_test, y_predict3))\n",
    "\n",
    "fon_max3=metrics.confusion_matrix(y_test, y_predict3)\n",
    "sns.heatmap(fon_max3, annot=True, fmt='g')\n",
    "plt.show()\n",
    "\n",
    "fpr, tpr, threshholds= metrics.roc_curve(y_test, y_predict3)\n",
    "auc_roc=metrics.auc(fpr, tpr)\n",
    "display=metrics.RocCurveDisplay(fpr=fpr, tpr=tpr, roc_auc=auc_roc, estimator_name='Roc Curve')\n",
    "display.plot()\n",
    "plt.show()"
   ]
  },
  {
   "cell_type": "code",
   "execution_count": null,
   "id": "0498a218",
   "metadata": {},
   "outputs": [],
   "source": [
    " "
   ]
  }
 ],
 "metadata": {
  "kernelspec": {
   "display_name": "Python 3 (ipykernel)",
   "language": "python",
   "name": "python3"
  },
  "language_info": {
   "codemirror_mode": {
    "name": "ipython",
    "version": 3
   },
   "file_extension": ".py",
   "mimetype": "text/x-python",
   "name": "python",
   "nbconvert_exporter": "python",
   "pygments_lexer": "ipython3",
   "version": "3.9.7"
  }
 },
 "nbformat": 4,
 "nbformat_minor": 5
}
